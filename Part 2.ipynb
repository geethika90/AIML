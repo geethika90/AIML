{
 "cells": [
  {
   "cell_type": "markdown",
   "id": "380bd24b",
   "metadata": {},
   "source": [
    "• TASK: Explain in depth why CNN out performs neural networks which in turn out perform supervised learning \n",
    "models when it comes to image classification. "
   ]
  },
  {
   "cell_type": "markdown",
   "id": "9453a9a9",
   "metadata": {},
   "source": [
    " The main advantage of CNN compared to its predecessors is that it automatically detects the important features without any human supervision. This is why CNN would be an ideal solution to computer vision and image classification problems.\n",
    "\n"
   ]
  },
  {
   "cell_type": "markdown",
   "id": "75149571",
   "metadata": {},
   "source": [
    "When using CNN, the spatial features are extracted from image input. This makes CNN ideal when thousands of features need to be extracted. Instead of having to measure each individual feature, CNN gathers these features on its own.In neural networks, these have to be explicitly provided as data points."
   ]
  },
  {
   "cell_type": "markdown",
   "id": "adeb78a3",
   "metadata": {},
   "source": [
    "ANN is ideal for solving problems regarding data. Image data, text data, and tabular data can be easily processed by forward facing algorithms. CNN requires many more data inputs to achieve its novel high accuracy rate. In many cases, to get the same accuracy as ANN for data processing, you have to use multiple methods of data augmentation to widen the reaches of your data. ANN has the ability to implicitly detect complex nonlinear relationships between dependent and independent variables.\n",
    "\n",
    "It would also get you virtually the same accuracy rate as using CNN for data classification problems. This makes CNN an overkill solution for a data classification problem, since you’d have to augment your data to widen the dataset and deal with the storage and hardware dependencies of CNN. ANN is a comparatively lightweight way of solving data classification problems.\n",
    "\n"
   ]
  },
  {
   "cell_type": "markdown",
   "id": "886a5640",
   "metadata": {},
   "source": [
    "Accuracy is best for CNNs than neural networks which in turn is better than other machine learning models.\n"
   ]
  },
  {
   "cell_type": "markdown",
   "id": "13aa904b",
   "metadata": {},
   "source": [
    "Deep Learning models are usually applied to problems that deal with data that do not have a simple row-column structure, like image classification or language translation, as they are great at operating on unstructured and complex-structure data these tasks handle — images, text, and sound. There are problems with handling data of these types and sizes with classical Machine Learning algorithms, and creating and applying some deep neural networks to these problems have caused tremendous developments in the fields of image recognition, speech recognition, text classification, and language translation in the last few years."
   ]
  },
  {
   "cell_type": "markdown",
   "id": "992f49ca",
   "metadata": {},
   "source": [
    "Application of Deep Learning to image classification problems was possible due to the fact that DNNs accept multi-dimensional tables of numbers, called tensors, as both input and output, and can track the spatial and temporal relationships between their elements."
   ]
  },
  {
   "cell_type": "code",
   "execution_count": null,
   "id": "2aa84c57",
   "metadata": {},
   "outputs": [],
   "source": []
  }
 ],
 "metadata": {
  "kernelspec": {
   "display_name": "Python 3",
   "language": "python",
   "name": "python3"
  },
  "language_info": {
   "codemirror_mode": {
    "name": "ipython",
    "version": 3
   },
   "file_extension": ".py",
   "mimetype": "text/x-python",
   "name": "python",
   "nbconvert_exporter": "python",
   "pygments_lexer": "ipython3",
   "version": "3.8.8"
  }
 },
 "nbformat": 4,
 "nbformat_minor": 5
}
