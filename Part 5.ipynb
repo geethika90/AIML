{
 "cells": [
  {
   "cell_type": "markdown",
   "id": "380bd24b",
   "metadata": {},
   "source": [
    "• TASK: Explain in depth your strategy to maintain and support the AIML image classifier after it in production"
   ]
  },
  {
   "cell_type": "markdown",
   "id": "a35cf871",
   "metadata": {},
   "source": [
    "The lifecycle of a machine learning (ML) model is very long, and it certainly does not end after you’ve built your model — in fact, that’s only the beginning. Once you’ve created your model, the next step is to productionize your model, which includes deploying your model and monitoring it. And while this sounds costly, it’s essential that you monitor your model for as long as you’re using it in order to get the maximum value out of your ML model.\n",
    "\n",
    "Model Monitoring is an operational stage in the machine learning life cycle that comes after model deployment, and it entails ‘monitoring’ your ML models for things like errors, crashes, and latency, but most importantly, to ensure that your model is maintaining a predetermined desired level of performance.\n",
    "\n",
    "The simple answer to why model monitoring is important is that your models will degrade over time as you use them, known as model drift.\n",
    "\n",
    "Upstream data changes refers to operational data changes in the data pipeline. In practice, this is fairly common as the data science team or department usually doesn’t have control over every system where input data comes from.The staging environment of a machine learning model is never indefinitely synonymous with the production environment because the world we live in is always changing.\n",
    "\n",
    "One way to maintain models with fresh data is to train and deploy your models using the same process you used to build your models in the first place. But this is time consuming.\n",
    "\n",
    "On the other hand, as you are manually retraining your models you may discover a new algorithm or a different set of features that provide improved accuracy.\n",
    "\n",
    "Another way to keep your models up-to-date is to have an automated system to continuously evaluate and retrain your models. This type of system is often referred to as continuous learning, and may look something like this:\n",
    "Save new training data as you receive it. For example, if you are receiving updated prices of houses on the market, save that information to a database.\n",
    "When you have enough new data, test its accuracy against your machine learning model.\n",
    "If you see the accuracy of your model degrading over time, use the new data, or a combination of the new data and old training data to build and deploy a new model.\n",
    "The benefit to a continuous learning system is that it can be completely automated.\n",
    "\n",
    "You can use the Model Builder to train your model and enable continuous learning without writing a single line of code, but if you want more control over the life cycle of your machine learning models (like I do) you can use the Watson Machine Learning libraries and APIs.\n",
    "\n"
   ]
  },
  {
   "cell_type": "code",
   "execution_count": null,
   "id": "f01537d2",
   "metadata": {},
   "outputs": [],
   "source": []
  }
 ],
 "metadata": {
  "kernelspec": {
   "display_name": "Python 3",
   "language": "python",
   "name": "python3"
  },
  "language_info": {
   "codemirror_mode": {
    "name": "ipython",
    "version": 3
   },
   "file_extension": ".py",
   "mimetype": "text/x-python",
   "name": "python",
   "nbconvert_exporter": "python",
   "pygments_lexer": "ipython3",
   "version": "3.8.8"
  }
 },
 "nbformat": 4,
 "nbformat_minor": 5
}
