{
  "nbformat": 4,
  "nbformat_minor": 5,
  "metadata": {
    "kernelspec": {
      "display_name": "Python 3",
      "language": "python",
      "name": "python3"
    },
    "language_info": {
      "codemirror_mode": {
        "name": "ipython",
        "version": 3
      },
      "file_extension": ".py",
      "mimetype": "text/x-python",
      "name": "python",
      "nbconvert_exporter": "python",
      "pygments_lexer": "ipython3",
      "version": "3.8.8"
    },
    "colab": {
      "name": "Part 1 -NLP.ipynb",
      "provenance": []
    }
  },
  "cells": [
    {
      "cell_type": "markdown",
      "metadata": {
        "id": "cc3af8dc"
      },
      "source": [
        " PROJECT OBJECTIVE: The need is to build a NLP classifier which can use input text parameters to determine the label/s of the blog.\n",
        "Steps and tasks:\n",
        "1. Import and analyse the data set.\n",
        "2. Perform data pre-processing on the data:\n",
        "• Data cleansing by removing unwanted characters, spaces, stop words etc. Convert text to lowercase.\n",
        "• Target/label merger and transformation\n",
        "• Train and test split\n",
        "• Vectorisation, etc.\n",
        "3. Design, train, tune and test the best text classifier.\n",
        "4. Display and explain detail the classification report\n",
        "5. Print the true vs predicted labels for any 5 entries from the dataset"
      ],
      "id": "cc3af8dc"
    },
    {
      "cell_type": "code",
      "metadata": {
        "colab": {
          "base_uri": "https://localhost:8080/"
        },
        "id": "QnsSQPPp1nVO",
        "outputId": "f98c7572-5534-42d9-ea57-3bd6f1b68a49"
      },
      "source": [
        "\n",
        "# Mounting Google Drive\n",
        "from google.colab import drive\n",
        "drive.mount('/content/drive')"
      ],
      "id": "QnsSQPPp1nVO",
      "execution_count": null,
      "outputs": [
        {
          "output_type": "stream",
          "text": [
            "Mounted at /content/drive\n"
          ],
          "name": "stdout"
        }
      ]
    },
    {
      "cell_type": "code",
      "metadata": {
        "id": "3RNank311uyr"
      },
      "source": [
        "# Setting the current working directory\n",
        "import os; os.chdir('drive/My Drive/NLP')"
      ],
      "id": "3RNank311uyr",
      "execution_count": null,
      "outputs": []
    },
    {
      "cell_type": "code",
      "metadata": {
        "id": "yjscGhYg2Yye"
      },
      "source": [
        "# https://drive.google.com/file/d/1LnJyGEmbtcG_WwkEKbVfzRdbMBV0oK6Z/view?usp=sharing"
      ],
      "id": "yjscGhYg2Yye",
      "execution_count": null,
      "outputs": []
    },
    {
      "cell_type": "code",
      "metadata": {
        "id": "a8edae5f"
      },
      "source": [
        "import numpy as np # linear algebra\n",
        "import pandas as pd # data processing, CSV file I/O (e.g. pd.read_csv)\n",
        "import re # regular expression\n",
        "import nltk\n",
        "\n",
        "import os\n",
        "for dirname, _, filenames in os.walk('drive/My Drive/NLP'):\n",
        "    for filename in filenames:\n",
        "        print(os.path.join(dirname, filename))"
      ],
      "id": "a8edae5f",
      "execution_count": null,
      "outputs": []
    },
    {
      "cell_type": "code",
      "metadata": {
        "id": "14d4e768"
      },
      "source": [
        "data=pd.read_csv(\"blogtext.csv\")"
      ],
      "id": "14d4e768",
      "execution_count": null,
      "outputs": []
    },
    {
      "cell_type": "code",
      "metadata": {
        "id": "BeM4mnZX1MJg",
        "colab": {
          "base_uri": "https://localhost:8080/",
          "height": 359
        },
        "outputId": "31d48354-5948-4eee-d27a-f82b8b1c78db"
      },
      "source": [
        "data.head(10)"
      ],
      "id": "BeM4mnZX1MJg",
      "execution_count": null,
      "outputs": [
        {
          "output_type": "execute_result",
          "data": {
            "text/html": [
              "<div>\n",
              "<style scoped>\n",
              "    .dataframe tbody tr th:only-of-type {\n",
              "        vertical-align: middle;\n",
              "    }\n",
              "\n",
              "    .dataframe tbody tr th {\n",
              "        vertical-align: top;\n",
              "    }\n",
              "\n",
              "    .dataframe thead th {\n",
              "        text-align: right;\n",
              "    }\n",
              "</style>\n",
              "<table border=\"1\" class=\"dataframe\">\n",
              "  <thead>\n",
              "    <tr style=\"text-align: right;\">\n",
              "      <th></th>\n",
              "      <th>id</th>\n",
              "      <th>gender</th>\n",
              "      <th>age</th>\n",
              "      <th>topic</th>\n",
              "      <th>sign</th>\n",
              "      <th>date</th>\n",
              "      <th>text</th>\n",
              "    </tr>\n",
              "  </thead>\n",
              "  <tbody>\n",
              "    <tr>\n",
              "      <th>0</th>\n",
              "      <td>2059027</td>\n",
              "      <td>male</td>\n",
              "      <td>15</td>\n",
              "      <td>Student</td>\n",
              "      <td>Leo</td>\n",
              "      <td>14,May,2004</td>\n",
              "      <td>Info has been found (+/- 100 pages,...</td>\n",
              "    </tr>\n",
              "    <tr>\n",
              "      <th>1</th>\n",
              "      <td>2059027</td>\n",
              "      <td>male</td>\n",
              "      <td>15</td>\n",
              "      <td>Student</td>\n",
              "      <td>Leo</td>\n",
              "      <td>13,May,2004</td>\n",
              "      <td>These are the team members:   Drewe...</td>\n",
              "    </tr>\n",
              "    <tr>\n",
              "      <th>2</th>\n",
              "      <td>2059027</td>\n",
              "      <td>male</td>\n",
              "      <td>15</td>\n",
              "      <td>Student</td>\n",
              "      <td>Leo</td>\n",
              "      <td>12,May,2004</td>\n",
              "      <td>In het kader van kernfusie op aarde...</td>\n",
              "    </tr>\n",
              "    <tr>\n",
              "      <th>3</th>\n",
              "      <td>2059027</td>\n",
              "      <td>male</td>\n",
              "      <td>15</td>\n",
              "      <td>Student</td>\n",
              "      <td>Leo</td>\n",
              "      <td>12,May,2004</td>\n",
              "      <td>testing!!!  testing!!!</td>\n",
              "    </tr>\n",
              "    <tr>\n",
              "      <th>4</th>\n",
              "      <td>3581210</td>\n",
              "      <td>male</td>\n",
              "      <td>33</td>\n",
              "      <td>InvestmentBanking</td>\n",
              "      <td>Aquarius</td>\n",
              "      <td>11,June,2004</td>\n",
              "      <td>Thanks to Yahoo!'s Toolbar I can ...</td>\n",
              "    </tr>\n",
              "    <tr>\n",
              "      <th>5</th>\n",
              "      <td>3581210</td>\n",
              "      <td>male</td>\n",
              "      <td>33</td>\n",
              "      <td>InvestmentBanking</td>\n",
              "      <td>Aquarius</td>\n",
              "      <td>10,June,2004</td>\n",
              "      <td>I had an interesting conversation...</td>\n",
              "    </tr>\n",
              "    <tr>\n",
              "      <th>6</th>\n",
              "      <td>3581210</td>\n",
              "      <td>male</td>\n",
              "      <td>33</td>\n",
              "      <td>InvestmentBanking</td>\n",
              "      <td>Aquarius</td>\n",
              "      <td>10,June,2004</td>\n",
              "      <td>Somehow Coca-Cola has a way of su...</td>\n",
              "    </tr>\n",
              "    <tr>\n",
              "      <th>7</th>\n",
              "      <td>3581210</td>\n",
              "      <td>male</td>\n",
              "      <td>33</td>\n",
              "      <td>InvestmentBanking</td>\n",
              "      <td>Aquarius</td>\n",
              "      <td>10,June,2004</td>\n",
              "      <td>If anything, Korea is a country o...</td>\n",
              "    </tr>\n",
              "    <tr>\n",
              "      <th>8</th>\n",
              "      <td>3581210</td>\n",
              "      <td>male</td>\n",
              "      <td>33</td>\n",
              "      <td>InvestmentBanking</td>\n",
              "      <td>Aquarius</td>\n",
              "      <td>10,June,2004</td>\n",
              "      <td>Take a read of this news article ...</td>\n",
              "    </tr>\n",
              "    <tr>\n",
              "      <th>9</th>\n",
              "      <td>3581210</td>\n",
              "      <td>male</td>\n",
              "      <td>33</td>\n",
              "      <td>InvestmentBanking</td>\n",
              "      <td>Aquarius</td>\n",
              "      <td>09,June,2004</td>\n",
              "      <td>I surf the English news sites a l...</td>\n",
              "    </tr>\n",
              "  </tbody>\n",
              "</table>\n",
              "</div>"
            ],
            "text/plain": [
              "        id  ...                                               text\n",
              "0  2059027  ...             Info has been found (+/- 100 pages,...\n",
              "1  2059027  ...             These are the team members:   Drewe...\n",
              "2  2059027  ...             In het kader van kernfusie op aarde...\n",
              "3  2059027  ...                   testing!!!  testing!!!          \n",
              "4  3581210  ...               Thanks to Yahoo!'s Toolbar I can ...\n",
              "5  3581210  ...               I had an interesting conversation...\n",
              "6  3581210  ...               Somehow Coca-Cola has a way of su...\n",
              "7  3581210  ...               If anything, Korea is a country o...\n",
              "8  3581210  ...               Take a read of this news article ...\n",
              "9  3581210  ...               I surf the English news sites a l...\n",
              "\n",
              "[10 rows x 7 columns]"
            ]
          },
          "metadata": {
            "tags": []
          },
          "execution_count": 10
        }
      ]
    },
    {
      "cell_type": "code",
      "metadata": {
        "colab": {
          "base_uri": "https://localhost:8080/"
        },
        "id": "iY2FdjYJfgp3",
        "outputId": "c3be240d-6e30-461f-82b9-4ae234caece8"
      },
      "source": [
        "data.isna().any()"
      ],
      "id": "iY2FdjYJfgp3",
      "execution_count": null,
      "outputs": [
        {
          "output_type": "execute_result",
          "data": {
            "text/plain": [
              "id        False\n",
              "gender    False\n",
              "age       False\n",
              "topic     False\n",
              "sign      False\n",
              "date      False\n",
              "text      False\n",
              "dtype: bool"
            ]
          },
          "metadata": {
            "tags": []
          },
          "execution_count": 11
        }
      ]
    },
    {
      "cell_type": "code",
      "metadata": {
        "colab": {
          "base_uri": "https://localhost:8080/"
        },
        "id": "hPjIcpUsfkF2",
        "outputId": "05e894dc-36c4-46ea-adc7-a43f9be937bd"
      },
      "source": [
        "data.shape"
      ],
      "id": "hPjIcpUsfkF2",
      "execution_count": null,
      "outputs": [
        {
          "output_type": "execute_result",
          "data": {
            "text/plain": [
              "(681284, 7)"
            ]
          },
          "metadata": {
            "tags": []
          },
          "execution_count": 13
        }
      ]
    },
    {
      "cell_type": "code",
      "metadata": {
        "id": "wuqTmvcxfpHU"
      },
      "source": [
        "data=data.head(10000)\n",
        "#Taking a subset of the entire dataset to do the analysis."
      ],
      "id": "wuqTmvcxfpHU",
      "execution_count": null,
      "outputs": []
    },
    {
      "cell_type": "code",
      "metadata": {
        "colab": {
          "base_uri": "https://localhost:8080/"
        },
        "id": "D__MlysKf_Fw",
        "outputId": "eb776b42-2360-4125-9a6f-aa4fba4d87b0"
      },
      "source": [
        "data.info()"
      ],
      "id": "D__MlysKf_Fw",
      "execution_count": null,
      "outputs": [
        {
          "output_type": "stream",
          "text": [
            "<class 'pandas.core.frame.DataFrame'>\n",
            "RangeIndex: 10000 entries, 0 to 9999\n",
            "Data columns (total 7 columns):\n",
            " #   Column  Non-Null Count  Dtype \n",
            "---  ------  --------------  ----- \n",
            " 0   id      10000 non-null  int64 \n",
            " 1   gender  10000 non-null  object\n",
            " 2   age     10000 non-null  int64 \n",
            " 3   topic   10000 non-null  object\n",
            " 4   sign    10000 non-null  object\n",
            " 5   date    10000 non-null  object\n",
            " 6   text    10000 non-null  object\n",
            "dtypes: int64(2), object(5)\n",
            "memory usage: 547.0+ KB\n"
          ],
          "name": "stdout"
        }
      ]
    },
    {
      "cell_type": "code",
      "metadata": {
        "id": "MIIyHSFZgEU1"
      },
      "source": [
        "data.drop(['id','date'], axis=1, inplace=True)"
      ],
      "id": "MIIyHSFZgEU1",
      "execution_count": null,
      "outputs": []
    },
    {
      "cell_type": "code",
      "metadata": {
        "colab": {
          "base_uri": "https://localhost:8080/",
          "height": 204
        },
        "id": "KioKNPy6jS4u",
        "outputId": "27bac5d4-38cc-4044-c665-cb79f9d0f306"
      },
      "source": [
        "data.head()"
      ],
      "id": "KioKNPy6jS4u",
      "execution_count": null,
      "outputs": [
        {
          "output_type": "execute_result",
          "data": {
            "text/html": [
              "<div>\n",
              "<style scoped>\n",
              "    .dataframe tbody tr th:only-of-type {\n",
              "        vertical-align: middle;\n",
              "    }\n",
              "\n",
              "    .dataframe tbody tr th {\n",
              "        vertical-align: top;\n",
              "    }\n",
              "\n",
              "    .dataframe thead th {\n",
              "        text-align: right;\n",
              "    }\n",
              "</style>\n",
              "<table border=\"1\" class=\"dataframe\">\n",
              "  <thead>\n",
              "    <tr style=\"text-align: right;\">\n",
              "      <th></th>\n",
              "      <th>gender</th>\n",
              "      <th>age</th>\n",
              "      <th>topic</th>\n",
              "      <th>sign</th>\n",
              "      <th>text</th>\n",
              "    </tr>\n",
              "  </thead>\n",
              "  <tbody>\n",
              "    <tr>\n",
              "      <th>0</th>\n",
              "      <td>male</td>\n",
              "      <td>15</td>\n",
              "      <td>Student</td>\n",
              "      <td>Leo</td>\n",
              "      <td>Info has been found (+/- 100 pages,...</td>\n",
              "    </tr>\n",
              "    <tr>\n",
              "      <th>1</th>\n",
              "      <td>male</td>\n",
              "      <td>15</td>\n",
              "      <td>Student</td>\n",
              "      <td>Leo</td>\n",
              "      <td>These are the team members:   Drewe...</td>\n",
              "    </tr>\n",
              "    <tr>\n",
              "      <th>2</th>\n",
              "      <td>male</td>\n",
              "      <td>15</td>\n",
              "      <td>Student</td>\n",
              "      <td>Leo</td>\n",
              "      <td>In het kader van kernfusie op aarde...</td>\n",
              "    </tr>\n",
              "    <tr>\n",
              "      <th>3</th>\n",
              "      <td>male</td>\n",
              "      <td>15</td>\n",
              "      <td>Student</td>\n",
              "      <td>Leo</td>\n",
              "      <td>testing!!!  testing!!!</td>\n",
              "    </tr>\n",
              "    <tr>\n",
              "      <th>4</th>\n",
              "      <td>male</td>\n",
              "      <td>33</td>\n",
              "      <td>InvestmentBanking</td>\n",
              "      <td>Aquarius</td>\n",
              "      <td>Thanks to Yahoo!'s Toolbar I can ...</td>\n",
              "    </tr>\n",
              "  </tbody>\n",
              "</table>\n",
              "</div>"
            ],
            "text/plain": [
              "  gender  age  ...      sign                                               text\n",
              "0   male   15  ...       Leo             Info has been found (+/- 100 pages,...\n",
              "1   male   15  ...       Leo             These are the team members:   Drewe...\n",
              "2   male   15  ...       Leo             In het kader van kernfusie op aarde...\n",
              "3   male   15  ...       Leo                   testing!!!  testing!!!          \n",
              "4   male   33  ...  Aquarius               Thanks to Yahoo!'s Toolbar I can ...\n",
              "\n",
              "[5 rows x 5 columns]"
            ]
          },
          "metadata": {
            "tags": []
          },
          "execution_count": 17
        }
      ]
    },
    {
      "cell_type": "code",
      "metadata": {
        "id": "GGSykw03jVvr"
      },
      "source": [
        "data['age']=data['age'].astype('object')"
      ],
      "id": "GGSykw03jVvr",
      "execution_count": null,
      "outputs": []
    },
    {
      "cell_type": "code",
      "metadata": {
        "colab": {
          "base_uri": "https://localhost:8080/"
        },
        "id": "ZC3lTLfojYWW",
        "outputId": "d36fd04e-cd14-4b07-e460-87be47556814"
      },
      "source": [
        "data.info()"
      ],
      "id": "ZC3lTLfojYWW",
      "execution_count": null,
      "outputs": [
        {
          "output_type": "stream",
          "text": [
            "<class 'pandas.core.frame.DataFrame'>\n",
            "RangeIndex: 10000 entries, 0 to 9999\n",
            "Data columns (total 5 columns):\n",
            " #   Column  Non-Null Count  Dtype \n",
            "---  ------  --------------  ----- \n",
            " 0   gender  10000 non-null  object\n",
            " 1   age     10000 non-null  object\n",
            " 2   topic   10000 non-null  object\n",
            " 3   sign    10000 non-null  object\n",
            " 4   text    10000 non-null  object\n",
            "dtypes: object(5)\n",
            "memory usage: 390.8+ KB\n"
          ],
          "name": "stdout"
        }
      ]
    },
    {
      "cell_type": "code",
      "metadata": {
        "id": "I4sscaW-jeWZ"
      },
      "source": [
        "data['clean_data']=data['text'].apply(lambda x: re.sub(r'[^A-Za-z]+',' ',x))"
      ],
      "id": "I4sscaW-jeWZ",
      "execution_count": null,
      "outputs": []
    },
    {
      "cell_type": "code",
      "metadata": {
        "id": "no8lNb0cjiB3"
      },
      "source": [
        "data['clean_data']=data['clean_data'].apply(lambda x: x.lower())"
      ],
      "id": "no8lNb0cjiB3",
      "execution_count": null,
      "outputs": []
    },
    {
      "cell_type": "code",
      "metadata": {
        "id": "KGrLsSLDjlLP"
      },
      "source": [
        "data['clean_data']=data['clean_data'].apply(lambda x: x.strip())"
      ],
      "id": "KGrLsSLDjlLP",
      "execution_count": null,
      "outputs": []
    },
    {
      "cell_type": "code",
      "metadata": {
        "colab": {
          "base_uri": "https://localhost:8080/"
        },
        "id": "dmPhs5tYjoHu",
        "outputId": "b430f44b-dd93-44df-b519-75523cd4e477"
      },
      "source": [
        "print(\"Actual data=======> {}\".format(data['text'][1]))"
      ],
      "id": "dmPhs5tYjoHu",
      "execution_count": null,
      "outputs": [
        {
          "output_type": "stream",
          "text": [
            "Actual data=======>            These are the team members:   Drewes van der Laag           urlLink mail  Ruiyu Xie                     urlLink mail  Bryan Aaldering (me)          urlLink mail          \n"
          ],
          "name": "stdout"
        }
      ]
    },
    {
      "cell_type": "code",
      "metadata": {
        "colab": {
          "base_uri": "https://localhost:8080/"
        },
        "id": "o6iypJ7fjrjO",
        "outputId": "ab41d999-7f39-4841-f181-c8c9bc4bdde3"
      },
      "source": [
        "print(\"Cleaned data=======> {}\".format(data['clean_data'][1]))"
      ],
      "id": "o6iypJ7fjrjO",
      "execution_count": null,
      "outputs": [
        {
          "output_type": "stream",
          "text": [
            "Cleaned data=======> these are the team members drewes van der laag urllink mail ruiyu xie urllink mail bryan aaldering me urllink mail\n"
          ],
          "name": "stdout"
        }
      ]
    },
    {
      "cell_type": "code",
      "metadata": {
        "colab": {
          "base_uri": "https://localhost:8080/"
        },
        "id": "k1Cil5eIhUEK",
        "outputId": "8e6e0431-92d2-472b-f778-a1b9d5462d4c"
      },
      "source": [
        "import nltk\n",
        "nltk.download('stopwords')"
      ],
      "id": "k1Cil5eIhUEK",
      "execution_count": null,
      "outputs": [
        {
          "output_type": "stream",
          "text": [
            "[nltk_data] Downloading package stopwords to /root/nltk_data...\n",
            "[nltk_data]   Package stopwords is already up-to-date!\n"
          ],
          "name": "stdout"
        },
        {
          "output_type": "execute_result",
          "data": {
            "text/plain": [
              "True"
            ]
          },
          "metadata": {
            "tags": []
          },
          "execution_count": 26
        }
      ]
    },
    {
      "cell_type": "code",
      "metadata": {
        "id": "bBGTSg42jubX"
      },
      "source": [
        "from nltk.corpus import stopwords\n",
        "stopwords=set(stopwords.words('english'))"
      ],
      "id": "bBGTSg42jubX",
      "execution_count": null,
      "outputs": []
    },
    {
      "cell_type": "code",
      "metadata": {
        "id": "6YEzbblAhcak"
      },
      "source": [
        "data['clean_data']=data['clean_data'].apply(lambda x: ' '.join([words for words in x.split() if words not in stopwords]))"
      ],
      "id": "6YEzbblAhcak",
      "execution_count": null,
      "outputs": []
    },
    {
      "cell_type": "code",
      "metadata": {
        "colab": {
          "base_uri": "https://localhost:8080/",
          "height": 103
        },
        "id": "ksAW3nwSp_hO",
        "outputId": "fa24d177-fccf-4317-de20-484053c36e93"
      },
      "source": [
        "data['clean_data'][6]"
      ],
      "id": "ksAW3nwSp_hO",
      "execution_count": null,
      "outputs": [
        {
          "output_type": "execute_result",
          "data": {
            "application/vnd.google.colaboratory.intrinsic+json": {
              "type": "string"
            },
            "text/plain": [
              "'somehow coca cola way summing things well early flagship jingle like buy world coke tune like teach world sing pretty much summed post woodstock era well add much sales catchy tune korea coke theme urllink stop thinking feel pretty much sums lot korea koreans look relaxed couple stopped thinking started feeling course high regard education math logic deep think many koreans really like work emotion anything else westerners seem sublimate moreso least display different way maybe scratch westerners koreans probably pretty similar context different anyways think losing korea repeat stop thinking feel stop thinking feel stop thinking feel everything alright'"
            ]
          },
          "metadata": {
            "tags": []
          },
          "execution_count": 29
        }
      ]
    },
    {
      "cell_type": "code",
      "metadata": {
        "id": "468XujDlqEwK"
      },
      "source": [
        "data['labels']=data.apply(lambda col: [col['gender'],str(col['age']),col['topic'],col['sign']], axis=1)"
      ],
      "id": "468XujDlqEwK",
      "execution_count": null,
      "outputs": []
    },
    {
      "cell_type": "code",
      "metadata": {
        "colab": {
          "base_uri": "https://localhost:8080/",
          "height": 204
        },
        "id": "YdGYLDYiqJQ9",
        "outputId": "3bcb00f3-bf19-480e-d796-3d1beed60e19"
      },
      "source": [
        "data.head()"
      ],
      "id": "YdGYLDYiqJQ9",
      "execution_count": null,
      "outputs": [
        {
          "output_type": "execute_result",
          "data": {
            "text/html": [
              "<div>\n",
              "<style scoped>\n",
              "    .dataframe tbody tr th:only-of-type {\n",
              "        vertical-align: middle;\n",
              "    }\n",
              "\n",
              "    .dataframe tbody tr th {\n",
              "        vertical-align: top;\n",
              "    }\n",
              "\n",
              "    .dataframe thead th {\n",
              "        text-align: right;\n",
              "    }\n",
              "</style>\n",
              "<table border=\"1\" class=\"dataframe\">\n",
              "  <thead>\n",
              "    <tr style=\"text-align: right;\">\n",
              "      <th></th>\n",
              "      <th>gender</th>\n",
              "      <th>age</th>\n",
              "      <th>topic</th>\n",
              "      <th>sign</th>\n",
              "      <th>text</th>\n",
              "      <th>clean_data</th>\n",
              "      <th>labels</th>\n",
              "    </tr>\n",
              "  </thead>\n",
              "  <tbody>\n",
              "    <tr>\n",
              "      <th>0</th>\n",
              "      <td>male</td>\n",
              "      <td>15</td>\n",
              "      <td>Student</td>\n",
              "      <td>Leo</td>\n",
              "      <td>Info has been found (+/- 100 pages,...</td>\n",
              "      <td>info found pages mb pdf files wait untill team...</td>\n",
              "      <td>[male, 15, Student, Leo]</td>\n",
              "    </tr>\n",
              "    <tr>\n",
              "      <th>1</th>\n",
              "      <td>male</td>\n",
              "      <td>15</td>\n",
              "      <td>Student</td>\n",
              "      <td>Leo</td>\n",
              "      <td>These are the team members:   Drewe...</td>\n",
              "      <td>team members drewes van der laag urllink mail ...</td>\n",
              "      <td>[male, 15, Student, Leo]</td>\n",
              "    </tr>\n",
              "    <tr>\n",
              "      <th>2</th>\n",
              "      <td>male</td>\n",
              "      <td>15</td>\n",
              "      <td>Student</td>\n",
              "      <td>Leo</td>\n",
              "      <td>In het kader van kernfusie op aarde...</td>\n",
              "      <td>het kader van kernfusie op aarde maak je eigen...</td>\n",
              "      <td>[male, 15, Student, Leo]</td>\n",
              "    </tr>\n",
              "    <tr>\n",
              "      <th>3</th>\n",
              "      <td>male</td>\n",
              "      <td>15</td>\n",
              "      <td>Student</td>\n",
              "      <td>Leo</td>\n",
              "      <td>testing!!!  testing!!!</td>\n",
              "      <td>testing testing</td>\n",
              "      <td>[male, 15, Student, Leo]</td>\n",
              "    </tr>\n",
              "    <tr>\n",
              "      <th>4</th>\n",
              "      <td>male</td>\n",
              "      <td>33</td>\n",
              "      <td>InvestmentBanking</td>\n",
              "      <td>Aquarius</td>\n",
              "      <td>Thanks to Yahoo!'s Toolbar I can ...</td>\n",
              "      <td>thanks yahoo toolbar capture urls popups means...</td>\n",
              "      <td>[male, 33, InvestmentBanking, Aquarius]</td>\n",
              "    </tr>\n",
              "  </tbody>\n",
              "</table>\n",
              "</div>"
            ],
            "text/plain": [
              "  gender  ...                                   labels\n",
              "0   male  ...                 [male, 15, Student, Leo]\n",
              "1   male  ...                 [male, 15, Student, Leo]\n",
              "2   male  ...                 [male, 15, Student, Leo]\n",
              "3   male  ...                 [male, 15, Student, Leo]\n",
              "4   male  ...  [male, 33, InvestmentBanking, Aquarius]\n",
              "\n",
              "[5 rows x 7 columns]"
            ]
          },
          "metadata": {
            "tags": []
          },
          "execution_count": 31
        }
      ]
    },
    {
      "cell_type": "code",
      "metadata": {
        "id": "SdkBTmOnqM27"
      },
      "source": [
        "data=data[['clean_data','labels']]"
      ],
      "id": "SdkBTmOnqM27",
      "execution_count": null,
      "outputs": []
    },
    {
      "cell_type": "code",
      "metadata": {
        "colab": {
          "base_uri": "https://localhost:8080/",
          "height": 204
        },
        "id": "hKhA94yXqP12",
        "outputId": "07de1e0c-2bdf-4bb6-c8f6-6bc77d172e4a"
      },
      "source": [
        "data.head()"
      ],
      "id": "hKhA94yXqP12",
      "execution_count": null,
      "outputs": [
        {
          "output_type": "execute_result",
          "data": {
            "text/html": [
              "<div>\n",
              "<style scoped>\n",
              "    .dataframe tbody tr th:only-of-type {\n",
              "        vertical-align: middle;\n",
              "    }\n",
              "\n",
              "    .dataframe tbody tr th {\n",
              "        vertical-align: top;\n",
              "    }\n",
              "\n",
              "    .dataframe thead th {\n",
              "        text-align: right;\n",
              "    }\n",
              "</style>\n",
              "<table border=\"1\" class=\"dataframe\">\n",
              "  <thead>\n",
              "    <tr style=\"text-align: right;\">\n",
              "      <th></th>\n",
              "      <th>clean_data</th>\n",
              "      <th>labels</th>\n",
              "    </tr>\n",
              "  </thead>\n",
              "  <tbody>\n",
              "    <tr>\n",
              "      <th>0</th>\n",
              "      <td>info found pages mb pdf files wait untill team...</td>\n",
              "      <td>[male, 15, Student, Leo]</td>\n",
              "    </tr>\n",
              "    <tr>\n",
              "      <th>1</th>\n",
              "      <td>team members drewes van der laag urllink mail ...</td>\n",
              "      <td>[male, 15, Student, Leo]</td>\n",
              "    </tr>\n",
              "    <tr>\n",
              "      <th>2</th>\n",
              "      <td>het kader van kernfusie op aarde maak je eigen...</td>\n",
              "      <td>[male, 15, Student, Leo]</td>\n",
              "    </tr>\n",
              "    <tr>\n",
              "      <th>3</th>\n",
              "      <td>testing testing</td>\n",
              "      <td>[male, 15, Student, Leo]</td>\n",
              "    </tr>\n",
              "    <tr>\n",
              "      <th>4</th>\n",
              "      <td>thanks yahoo toolbar capture urls popups means...</td>\n",
              "      <td>[male, 33, InvestmentBanking, Aquarius]</td>\n",
              "    </tr>\n",
              "  </tbody>\n",
              "</table>\n",
              "</div>"
            ],
            "text/plain": [
              "                                          clean_data                                   labels\n",
              "0  info found pages mb pdf files wait untill team...                 [male, 15, Student, Leo]\n",
              "1  team members drewes van der laag urllink mail ...                 [male, 15, Student, Leo]\n",
              "2  het kader van kernfusie op aarde maak je eigen...                 [male, 15, Student, Leo]\n",
              "3                                    testing testing                 [male, 15, Student, Leo]\n",
              "4  thanks yahoo toolbar capture urls popups means...  [male, 33, InvestmentBanking, Aquarius]"
            ]
          },
          "metadata": {
            "tags": []
          },
          "execution_count": 33
        }
      ]
    },
    {
      "cell_type": "code",
      "metadata": {
        "id": "jzorV_ZbqTQK"
      },
      "source": [
        "X=data['clean_data']"
      ],
      "id": "jzorV_ZbqTQK",
      "execution_count": null,
      "outputs": []
    },
    {
      "cell_type": "code",
      "metadata": {
        "id": "HqtVs2aaqVuQ"
      },
      "source": [
        "Y=data['labels']"
      ],
      "id": "HqtVs2aaqVuQ",
      "execution_count": null,
      "outputs": []
    },
    {
      "cell_type": "code",
      "metadata": {
        "id": "D-Liqg0tqY9_"
      },
      "source": [
        "from sklearn.feature_extraction.text import CountVectorizer"
      ],
      "id": "D-Liqg0tqY9_",
      "execution_count": null,
      "outputs": []
    },
    {
      "cell_type": "code",
      "metadata": {
        "id": "r9BDaDUZqccC"
      },
      "source": [
        "vectorizer=CountVectorizer(binary=True, ngram_range=(1,2))"
      ],
      "id": "r9BDaDUZqccC",
      "execution_count": null,
      "outputs": []
    },
    {
      "cell_type": "code",
      "metadata": {
        "id": "ByyjLZgmqfaN"
      },
      "source": [
        "X=vectorizer.fit_transform(X)"
      ],
      "id": "ByyjLZgmqfaN",
      "execution_count": null,
      "outputs": []
    },
    {
      "cell_type": "code",
      "metadata": {
        "colab": {
          "base_uri": "https://localhost:8080/"
        },
        "id": "5Om4AgLCqipU",
        "outputId": "78ad2998-89b9-46d5-af5b-2e1ac6c3add3"
      },
      "source": [
        "X[1]"
      ],
      "id": "5Om4AgLCqipU",
      "execution_count": null,
      "outputs": [
        {
          "output_type": "execute_result",
          "data": {
            "text/plain": [
              "<1x643302 sparse matrix of type '<class 'numpy.int64'>'\n",
              "\twith 25 stored elements in Compressed Sparse Row format>"
            ]
          },
          "metadata": {
            "tags": []
          },
          "execution_count": 39
        }
      ]
    },
    {
      "cell_type": "code",
      "metadata": {
        "colab": {
          "base_uri": "https://localhost:8080/"
        },
        "id": "P53Xur30ql0_",
        "outputId": "48389d67-f748-4d2f-f0e0-7063904bfcfa"
      },
      "source": [
        "vectorizer.get_feature_names()[:5]"
      ],
      "id": "P53Xur30ql0_",
      "execution_count": null,
      "outputs": [
        {
          "output_type": "execute_result",
          "data": {
            "text/plain": [
              "['aa', 'aa amazing', 'aa anger', 'aa compared', 'aa keeps']"
            ]
          },
          "metadata": {
            "tags": []
          },
          "execution_count": 40
        }
      ]
    },
    {
      "cell_type": "code",
      "metadata": {
        "id": "zxjfsqoqqqmk"
      },
      "source": [
        "label_counts=dict()\n",
        "\n",
        "for labels in data.labels.values:\n",
        "    for label in labels:\n",
        "        if label in label_counts:\n",
        "            label_counts[label]+=1\n",
        "        else:\n",
        "            label_counts[label]=1"
      ],
      "id": "zxjfsqoqqqmk",
      "execution_count": null,
      "outputs": []
    },
    {
      "cell_type": "code",
      "metadata": {
        "colab": {
          "base_uri": "https://localhost:8080/"
        },
        "id": "33Zc70d7quAV",
        "outputId": "fd76393a-242b-4c25-cff5-041d2818812c"
      },
      "source": [
        "label_counts"
      ],
      "id": "33Zc70d7quAV",
      "execution_count": null,
      "outputs": [
        {
          "output_type": "execute_result",
          "data": {
            "text/plain": [
              "{'13': 42,\n",
              " '14': 212,\n",
              " '15': 602,\n",
              " '16': 440,\n",
              " '17': 1185,\n",
              " '23': 253,\n",
              " '24': 655,\n",
              " '25': 386,\n",
              " '26': 234,\n",
              " '27': 1054,\n",
              " '33': 136,\n",
              " '34': 553,\n",
              " '35': 2315,\n",
              " '36': 1708,\n",
              " '37': 33,\n",
              " '38': 46,\n",
              " '39': 79,\n",
              " '40': 1,\n",
              " '41': 20,\n",
              " '42': 14,\n",
              " '43': 6,\n",
              " '44': 3,\n",
              " '45': 16,\n",
              " '46': 7,\n",
              " 'Accounting': 4,\n",
              " 'Aquarius': 571,\n",
              " 'Aries': 4198,\n",
              " 'Arts': 45,\n",
              " 'Automotive': 14,\n",
              " 'Banking': 16,\n",
              " 'BusinessServices': 91,\n",
              " 'Cancer': 504,\n",
              " 'Capricorn': 215,\n",
              " 'Communications-Media': 99,\n",
              " 'Consulting': 21,\n",
              " 'Education': 270,\n",
              " 'Engineering': 127,\n",
              " 'Fashion': 1622,\n",
              " 'Gemini': 150,\n",
              " 'HumanResources': 2,\n",
              " 'Internet': 118,\n",
              " 'InvestmentBanking': 70,\n",
              " 'Law': 11,\n",
              " 'LawEnforcement-Security': 10,\n",
              " 'Leo': 301,\n",
              " 'Libra': 491,\n",
              " 'Marketing': 156,\n",
              " 'Museums-Libraries': 17,\n",
              " 'Non-Profit': 71,\n",
              " 'Pisces': 454,\n",
              " 'Publishing': 4,\n",
              " 'Religion': 9,\n",
              " 'Sagittarius': 1097,\n",
              " 'Science': 63,\n",
              " 'Scorpio': 971,\n",
              " 'Sports-Recreation': 80,\n",
              " 'Student': 1137,\n",
              " 'Taurus': 812,\n",
              " 'Technology': 2654,\n",
              " 'Telecommunications': 2,\n",
              " 'Virgo': 236,\n",
              " 'female': 4084,\n",
              " 'indUnk': 3287,\n",
              " 'male': 5916}"
            ]
          },
          "metadata": {
            "tags": []
          },
          "execution_count": 42
        }
      ]
    },
    {
      "cell_type": "code",
      "metadata": {
        "id": "lYuabmkIqwhd"
      },
      "source": [
        "from sklearn.preprocessing import MultiLabelBinarizer\n",
        "binarizer=MultiLabelBinarizer(classes=sorted(label_counts.keys()))"
      ],
      "id": "lYuabmkIqwhd",
      "execution_count": null,
      "outputs": []
    },
    {
      "cell_type": "code",
      "metadata": {
        "id": "NwXs2Qnzq3eH"
      },
      "source": [
        "Y=binarizer.fit_transform(data.labels)"
      ],
      "id": "NwXs2Qnzq3eH",
      "execution_count": null,
      "outputs": []
    },
    {
      "cell_type": "code",
      "metadata": {
        "id": "gLNL0XIKrHZI"
      },
      "source": [
        "from sklearn.model_selection import train_test_split"
      ],
      "id": "gLNL0XIKrHZI",
      "execution_count": null,
      "outputs": []
    },
    {
      "cell_type": "code",
      "metadata": {
        "id": "A92qm_8XrLol"
      },
      "source": [
        "Xtrain,Xtest,Ytrain,Ytest=train_test_split(X,Y,test_size=0.2)"
      ],
      "id": "A92qm_8XrLol",
      "execution_count": null,
      "outputs": []
    },
    {
      "cell_type": "code",
      "metadata": {
        "id": "xTSifRG9sPVp"
      },
      "source": [
        "from sklearn.multiclass import OneVsRestClassifier\n",
        "from sklearn.linear_model import LogisticRegression"
      ],
      "id": "xTSifRG9sPVp",
      "execution_count": null,
      "outputs": []
    },
    {
      "cell_type": "code",
      "metadata": {
        "id": "1MMMKGR3sSPu"
      },
      "source": [
        "model=LogisticRegression(solver='lbfgs')"
      ],
      "id": "1MMMKGR3sSPu",
      "execution_count": null,
      "outputs": []
    },
    {
      "cell_type": "code",
      "metadata": {
        "id": "iBM1B0vrsUrV"
      },
      "source": [
        "model=OneVsRestClassifier(model)"
      ],
      "id": "iBM1B0vrsUrV",
      "execution_count": null,
      "outputs": []
    },
    {
      "cell_type": "code",
      "metadata": {
        "colab": {
          "base_uri": "https://localhost:8080/"
        },
        "id": "dhIPPx9asXV5",
        "outputId": "0cd1732b-8fb5-45b1-8518-3882cc93c361"
      },
      "source": [
        "model.fit(Xtrain,Ytrain)"
      ],
      "id": "dhIPPx9asXV5",
      "execution_count": null,
      "outputs": [
        {
          "output_type": "execute_result",
          "data": {
            "text/plain": [
              "OneVsRestClassifier(estimator=LogisticRegression(C=1.0, class_weight=None,\n",
              "                                                 dual=False, fit_intercept=True,\n",
              "                                                 intercept_scaling=1,\n",
              "                                                 l1_ratio=None, max_iter=100,\n",
              "                                                 multi_class='auto',\n",
              "                                                 n_jobs=None, penalty='l2',\n",
              "                                                 random_state=None,\n",
              "                                                 solver='lbfgs', tol=0.0001,\n",
              "                                                 verbose=0, warm_start=False),\n",
              "                    n_jobs=None)"
            ]
          },
          "metadata": {
            "tags": []
          },
          "execution_count": 51
        }
      ]
    },
    {
      "cell_type": "code",
      "metadata": {
        "id": "a7L9j5U_yIAv"
      },
      "source": [
        "Ypred=model.predict(Xtest)"
      ],
      "id": "a7L9j5U_yIAv",
      "execution_count": null,
      "outputs": []
    },
    {
      "cell_type": "code",
      "metadata": {
        "id": "Tbr4V7HeynIq"
      },
      "source": [
        "Ypred_inversed = binarizer.inverse_transform(Ypred)\n",
        "y_test_inversed = binarizer.inverse_transform(Ytest)"
      ],
      "id": "Tbr4V7HeynIq",
      "execution_count": null,
      "outputs": []
    },
    {
      "cell_type": "code",
      "metadata": {
        "colab": {
          "base_uri": "https://localhost:8080/"
        },
        "id": "gJRkDIO1yp0i",
        "outputId": "98107de5-537a-4328-e598-18255944595c"
      },
      "source": [
        "for i in range(5):\n",
        "    print('Text:\\t{}\\nTrue labels:\\t{}\\nPredicted labels:\\t{}\\n\\n'.format(\n",
        "        Xtest[i],\n",
        "        ','.join(y_test_inversed[i]),\n",
        "        ','.join(Ypred_inversed[i])\n",
        "    ))"
      ],
      "id": "gJRkDIO1yp0i",
      "execution_count": null,
      "outputs": [
        {
          "output_type": "stream",
          "text": [
            "Text:\t  (0, 605190)\t1\n",
            "  (0, 69693)\t1\n",
            "  (0, 487360)\t1\n",
            "  (0, 312628)\t1\n",
            "  (0, 607406)\t1\n",
            "  (0, 52528)\t1\n",
            "  (0, 420587)\t1\n",
            "  (0, 332880)\t1\n",
            "  (0, 450189)\t1\n",
            "  (0, 113776)\t1\n",
            "  (0, 412619)\t1\n",
            "  (0, 564667)\t1\n",
            "  (0, 632385)\t1\n",
            "  (0, 477858)\t1\n",
            "  (0, 529247)\t1\n",
            "  (0, 26777)\t1\n",
            "  (0, 567161)\t1\n",
            "  (0, 229515)\t1\n",
            "  (0, 491836)\t1\n",
            "  (0, 403052)\t1\n",
            "  (0, 218079)\t1\n",
            "  (0, 51214)\t1\n",
            "  (0, 308208)\t1\n",
            "  (0, 14389)\t1\n",
            "  (0, 220536)\t1\n",
            "  :\t:\n",
            "  (0, 55023)\t1\n",
            "  (0, 40184)\t1\n",
            "  (0, 453681)\t1\n",
            "  (0, 573606)\t1\n",
            "  (0, 152193)\t1\n",
            "  (0, 267919)\t1\n",
            "  (0, 427535)\t1\n",
            "  (0, 308422)\t1\n",
            "  (0, 360143)\t1\n",
            "  (0, 584813)\t1\n",
            "  (0, 332961)\t1\n",
            "  (0, 634787)\t1\n",
            "  (0, 437937)\t1\n",
            "  (0, 556628)\t1\n",
            "  (0, 628198)\t1\n",
            "  (0, 84110)\t1\n",
            "  (0, 458634)\t1\n",
            "  (0, 11268)\t1\n",
            "  (0, 445507)\t1\n",
            "  (0, 532759)\t1\n",
            "  (0, 156673)\t1\n",
            "  (0, 82912)\t1\n",
            "  (0, 54919)\t1\n",
            "  (0, 26780)\t1\n",
            "  (0, 127471)\t1\n",
            "True labels:\t27,Pisces,Technology,male\n",
            "Predicted labels:\t27,Pisces,Technology,male\n",
            "\n",
            "\n",
            "Text:\t  (0, 593438)\t1\n",
            "  (0, 604317)\t1\n",
            "  (0, 94784)\t1\n",
            "  (0, 9902)\t1\n",
            "  (0, 604319)\t1\n",
            "  (0, 9905)\t1\n",
            "  (0, 593782)\t1\n",
            "True labels:\t36,Aries,Fashion,male\n",
            "Predicted labels:\tmale\n",
            "\n",
            "\n",
            "Text:\t  (0, 312628)\t1\n",
            "  (0, 226708)\t1\n",
            "  (0, 421129)\t1\n",
            "  (0, 319058)\t1\n",
            "  (0, 502027)\t1\n",
            "  (0, 332005)\t1\n",
            "  (0, 155847)\t1\n",
            "  (0, 275341)\t1\n",
            "  (0, 465207)\t1\n",
            "  (0, 306682)\t1\n",
            "  (0, 621438)\t1\n",
            "  (0, 558082)\t1\n",
            "  (0, 363386)\t1\n",
            "  (0, 489028)\t1\n",
            "  (0, 373308)\t1\n",
            "  (0, 341960)\t1\n",
            "  (0, 219524)\t1\n",
            "  (0, 348281)\t1\n",
            "  (0, 616967)\t1\n",
            "  (0, 127378)\t1\n",
            "  (0, 421888)\t1\n",
            "  (0, 487123)\t1\n",
            "  (0, 524871)\t1\n",
            "  (0, 114950)\t1\n",
            "  (0, 546206)\t1\n",
            "  :\t:\n",
            "  (0, 115012)\t1\n",
            "  (0, 112718)\t1\n",
            "  (0, 332725)\t1\n",
            "  (0, 128725)\t1\n",
            "  (0, 621834)\t1\n",
            "  (0, 363718)\t1\n",
            "  (0, 155976)\t1\n",
            "  (0, 421218)\t1\n",
            "  (0, 219863)\t1\n",
            "  (0, 502138)\t1\n",
            "  (0, 373443)\t1\n",
            "  (0, 422001)\t1\n",
            "  (0, 304778)\t1\n",
            "  (0, 348395)\t1\n",
            "  (0, 59167)\t1\n",
            "  (0, 226767)\t1\n",
            "  (0, 524901)\t1\n",
            "  (0, 552060)\t1\n",
            "  (0, 348340)\t1\n",
            "  (0, 319991)\t1\n",
            "  (0, 508786)\t1\n",
            "  (0, 506481)\t1\n",
            "  (0, 500758)\t1\n",
            "  (0, 492882)\t1\n",
            "  (0, 489041)\t1\n",
            "True labels:\t34,Sagittarius,female,indUnk\n",
            "Predicted labels:\tfemale,indUnk\n",
            "\n",
            "\n",
            "Text:\t  (0, 502027)\t1\n",
            "  (0, 162313)\t1\n",
            "  (0, 325781)\t1\n",
            "  (0, 418584)\t1\n",
            "  (0, 179224)\t1\n",
            "  (0, 466786)\t1\n",
            "  (0, 167646)\t1\n",
            "  (0, 9340)\t1\n",
            "  (0, 42025)\t1\n",
            "  (0, 636616)\t1\n",
            "  (0, 588302)\t1\n",
            "  (0, 474786)\t1\n",
            "  (0, 549460)\t1\n",
            "  (0, 71271)\t1\n",
            "  (0, 129685)\t1\n",
            "  (0, 443330)\t1\n",
            "  (0, 550655)\t1\n",
            "  (0, 75605)\t1\n",
            "  (0, 109851)\t1\n",
            "  (0, 490009)\t1\n",
            "  (0, 399049)\t1\n",
            "  (0, 37239)\t1\n",
            "  (0, 152858)\t1\n",
            "  (0, 135316)\t1\n",
            "  (0, 10710)\t1\n",
            "  :\t:\n",
            "  (0, 166571)\t1\n",
            "  (0, 98558)\t1\n",
            "  (0, 71343)\t1\n",
            "  (0, 367218)\t1\n",
            "  (0, 340127)\t1\n",
            "  (0, 488425)\t1\n",
            "  (0, 71334)\t1\n",
            "  (0, 80423)\t1\n",
            "  (0, 536995)\t1\n",
            "  (0, 183111)\t1\n",
            "  (0, 601880)\t1\n",
            "  (0, 604242)\t1\n",
            "  (0, 10786)\t1\n",
            "  (0, 577552)\t1\n",
            "  (0, 501483)\t1\n",
            "  (0, 138481)\t1\n",
            "  (0, 490175)\t1\n",
            "  (0, 75734)\t1\n",
            "  (0, 168697)\t1\n",
            "  (0, 95751)\t1\n",
            "  (0, 554573)\t1\n",
            "  (0, 475012)\t1\n",
            "  (0, 131926)\t1\n",
            "  (0, 76440)\t1\n",
            "  (0, 281915)\t1\n",
            "True labels:\t15,Aquarius,Student,female\n",
            "Predicted labels:\t15,Student,female\n",
            "\n",
            "\n",
            "Text:\t  (0, 209803)\t1\n",
            "  (0, 607406)\t1\n",
            "  (0, 192891)\t1\n",
            "  (0, 529247)\t1\n",
            "  (0, 334172)\t1\n",
            "  (0, 222683)\t1\n",
            "  (0, 244614)\t1\n",
            "  (0, 375481)\t1\n",
            "  (0, 350159)\t1\n",
            "  (0, 31409)\t1\n",
            "  (0, 50417)\t1\n",
            "  (0, 389210)\t1\n",
            "  (0, 440127)\t1\n",
            "  (0, 374716)\t1\n",
            "  (0, 114795)\t1\n",
            "  (0, 227615)\t1\n",
            "  (0, 84403)\t1\n",
            "  (0, 343748)\t1\n",
            "  (0, 480939)\t1\n",
            "  (0, 408245)\t1\n",
            "  (0, 267521)\t1\n",
            "  (0, 201216)\t1\n",
            "  (0, 607863)\t1\n",
            "  (0, 227048)\t1\n",
            "  (0, 421888)\t1\n",
            "  :\t:\n",
            "  (0, 350441)\t1\n",
            "  (0, 457163)\t1\n",
            "  (0, 422112)\t1\n",
            "  (0, 642689)\t1\n",
            "  (0, 599164)\t1\n",
            "  (0, 333540)\t1\n",
            "  (0, 301922)\t1\n",
            "  (0, 354021)\t1\n",
            "  (0, 269363)\t1\n",
            "  (0, 409110)\t1\n",
            "  (0, 548124)\t1\n",
            "  (0, 84517)\t1\n",
            "  (0, 638842)\t1\n",
            "  (0, 114814)\t1\n",
            "  (0, 125690)\t1\n",
            "  (0, 548093)\t1\n",
            "  (0, 23838)\t1\n",
            "  (0, 87335)\t1\n",
            "  (0, 322996)\t1\n",
            "  (0, 393060)\t1\n",
            "  (0, 343918)\t1\n",
            "  (0, 227253)\t1\n",
            "  (0, 410623)\t1\n",
            "  (0, 201303)\t1\n",
            "  (0, 50761)\t1\n",
            "True labels:\t17,Pisces,Student,female\n",
            "Predicted labels:\tStudent,female\n",
            "\n",
            "\n"
          ],
          "name": "stdout"
        }
      ]
    },
    {
      "cell_type": "code",
      "metadata": {
        "id": "XrAF_dUeyvYJ"
      },
      "source": [
        "from sklearn.metrics import accuracy_score\n",
        "from sklearn.metrics import f1_score\n",
        "from sklearn.metrics import average_precision_score\n",
        "from sklearn.metrics import recall_score\n",
        "\n",
        "def print_evaluation_scores(Ytest, Ypred):\n",
        "    print('Accuracy score: ', accuracy_score(Ytest, Ypred))\n",
        "    print('F1 score: ', f1_score(Ytest, Ypred, average='micro'))\n",
        "    print('Average precision score: ', average_precision_score(Ytest, Ypred, average='micro'))\n",
        "    print('Average recall score: ', recall_score(Ytest, Ypred, average='micro'))"
      ],
      "id": "XrAF_dUeyvYJ",
      "execution_count": null,
      "outputs": []
    },
    {
      "cell_type": "code",
      "metadata": {
        "id": "3v96R5yTyzT5",
        "colab": {
          "base_uri": "https://localhost:8080/"
        },
        "outputId": "215a65bc-e89e-4663-d15c-ab9e2655b65a"
      },
      "source": [
        "print_evaluation_scores(Ytest, Ypred)"
      ],
      "id": "3v96R5yTyzT5",
      "execution_count": null,
      "outputs": [
        {
          "output_type": "stream",
          "text": [
            "Accuracy score:  0.307\n",
            "F1 score:  0.6282889733840304\n",
            "Average precision score:  0.4444294993932039\n",
            "Average recall score:  0.516375\n"
          ],
          "name": "stdout"
        }
      ]
    }
  ]
}