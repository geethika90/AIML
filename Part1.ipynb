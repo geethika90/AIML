{
 "cells": [
  {
   "cell_type": "raw",
   "id": "26224484",
   "metadata": {},
   "source": [
    "PROJECT OBJECTIVE: University’s management require an automation which can create a classifier capable of \n",
    "determining a plant's species from a photo"
   ]
  },
  {
   "cell_type": "raw",
   "id": "f60889f3",
   "metadata": {},
   "source": [
    "1. Import the data. Analyse the dimensions of the data. Visualise the data"
   ]
  },
  {
   "cell_type": "code",
   "execution_count": 34,
   "id": "9d66ff76",
   "metadata": {},
   "outputs": [],
   "source": [
    "import numpy as np\n",
    "import pandas as pd\n",
    "import os\n",
    "import tensorflow as tf\n",
    "import matplotlib.pyplot as plt\n",
    "from sklearn.metrics import confusion_matrix\n",
    "from sklearn.model_selection import train_test_split\n",
    "import skimage.io as io\n",
    "import matplotlib.pyplot as plt\n",
    "\n",
    "from tensorflow.keras.utils import to_categorical\n",
    "from tensorflow.keras.preprocessing.image import ImageDataGenerator\n",
    "from tensorflow.keras.optimizers import Adam,SGD\n",
    "from tensorflow.keras.callbacks import ModelCheckpoint, EarlyStopping\n",
    "from tensorflow.keras.layers import Input, Add, Dense, Activation, ZeroPadding2D, BatchNormalization, Flatten, Conv2D, AveragePooling2D, MaxPooling2D, GlobalMaxPooling2D, Dropout\n",
    "from tensorflow.keras.models import Sequential, Model\n",
    "\n",
    "from IPython.display import SVG\n",
    "from tensorflow.keras.utils import model_to_dot\n",
    "from tensorflow.keras.utils import plot_model\n",
    "\n",
    "import cv2"
   ]
  },
  {
   "cell_type": "raw",
   "id": "3268cb9a",
   "metadata": {},
   "source": [
    "2. Train tune and test AIML image classifier model using:\n",
    "• Use supervised learning algorithms for training\n",
    "• Use neural networks for training\n",
    "• Use CNN for training\n",
    "3. Compare the results from the above step along with your detailed observations. \n",
    "4. Pickle the best performing model.\n",
    "5. Import the the image in the “ Prediction” folder to predict the class. Display the image. Use the best trained image \n",
    "classifier model to predict the class"
   ]
  },
  {
   "cell_type": "code",
   "execution_count": 2,
   "id": "290d94b2",
   "metadata": {},
   "outputs": [
    {
     "data": {
      "text/plain": [
       "{'Black-grass': 0,\n",
       " 'Charlock': 1,\n",
       " 'Cleavers': 2,\n",
       " 'Common Chickweed': 3,\n",
       " 'Common wheat': 4,\n",
       " 'Fat Hen': 5,\n",
       " 'Loose Silky-bent': 6,\n",
       " 'Maize': 7,\n",
       " 'Scentless Mayweed': 8,\n",
       " 'Shepherds Purse': 9,\n",
       " 'Small-flowered Cranesbill': 10,\n",
       " 'Sugar beet': 11}"
      ]
     },
     "execution_count": 2,
     "metadata": {},
     "output_type": "execute_result"
    }
   ],
   "source": [
    "datasets = [\"train-20210503T055555Z-001/train\"]\n",
    "\n",
    "class_names = [\"Black-grass\",\"Charlock\",\"Cleavers\",\"Common Chickweed\",\"Common wheat\",\"Fat Hen\",\"Loose Silky-bent\",\"Maize\",\"Scentless Mayweed\",\"Shepherds Purse\",\"Small-flowered Cranesbill\",\"Sugar beet\"]\n",
    "\n",
    "class_name_labels = {class_name:i for i,class_name in enumerate(class_names)}\n",
    "\n",
    "nb_classes = len(class_names)\n",
    "class_name_labels"
   ]
  },
  {
   "cell_type": "code",
   "execution_count": 3,
   "id": "841ea2c4",
   "metadata": {},
   "outputs": [],
   "source": [
    "from tqdm import tqdm\n",
    "\n",
    "def load_data():\n",
    "    images,labels = [],[]\n",
    "    for dataset in datasets:\n",
    "\n",
    "        for folder in os.listdir(dataset):\n",
    "            label = class_name_labels[folder]\n",
    "            \n",
    "            for file in tqdm(os.listdir(os.path.join(dataset,folder))):\n",
    "                \n",
    "                img_path = os.path.join(os.path.join(dataset,folder),file)\n",
    "                img = cv2.imread(img_path)\n",
    "                img = cv2.cvtColor(img,cv2.COLOR_BGR2RGB)\n",
    "                img = cv2.resize(img,(150,150))\n",
    "                \n",
    "                images.append(img)\n",
    "                labels.append(label)\n",
    "                pass\n",
    "            pass\n",
    "        \n",
    "        images = np.array(images,dtype=np.float32)\n",
    "        labels = np.array(labels,dtype=np.float32)\n",
    "        \n",
    "        pass\n",
    "    \n",
    "    return images,labels\n",
    "    pass"
   ]
  },
  {
   "cell_type": "markdown",
   "id": "fc18133e",
   "metadata": {},
   "source": [
    "Loading the train data into 2 lists images and labels, each storing the image and its corresponding labels. \n",
    "The labels in this case are the type of seedlings as recorded in the dataset."
   ]
  },
  {
   "cell_type": "code",
   "execution_count": 4,
   "id": "53f0c771",
   "metadata": {},
   "outputs": [
    {
     "name": "stderr",
     "output_type": "stream",
     "text": [
      "100%|████████████████████████████████████████████████████████████████████████████████| 263/263 [00:05<00:00, 49.29it/s]\n",
      "100%|████████████████████████████████████████████████████████████████████████████████| 390/390 [00:03<00:00, 99.86it/s]\n",
      "100%|███████████████████████████████████████████████████████████████████████████████| 287/287 [00:01<00:00, 175.32it/s]\n",
      "100%|███████████████████████████████████████████████████████████████████████████████| 611/611 [00:02<00:00, 222.91it/s]\n",
      "100%|███████████████████████████████████████████████████████████████████████████████| 221/221 [00:02<00:00, 103.25it/s]\n",
      "100%|███████████████████████████████████████████████████████████████████████████████| 475/475 [00:02<00:00, 229.69it/s]\n",
      "100%|███████████████████████████████████████████████████████████████████████████████| 671/671 [00:06<00:00, 110.20it/s]\n",
      "100%|████████████████████████████████████████████████████████████████████████████████| 221/221 [00:02<00:00, 82.89it/s]\n",
      "100%|███████████████████████████████████████████████████████████████████████████████| 516/516 [00:01<00:00, 283.36it/s]\n",
      "100%|███████████████████████████████████████████████████████████████████████████████| 231/231 [00:01<00:00, 203.34it/s]\n",
      "100%|███████████████████████████████████████████████████████████████████████████████| 496/496 [00:02<00:00, 187.45it/s]\n",
      "100%|████████████████████████████████████████████████████████████████████████████████| 385/385 [00:05<00:00, 76.58it/s]\n"
     ]
    }
   ],
   "source": [
    "(train_images),(train_labels) = load_data()"
   ]
  },
  {
   "cell_type": "code",
   "execution_count": 5,
   "id": "8ce4e3df",
   "metadata": {},
   "outputs": [
    {
     "data": {
      "text/html": [
       "<div>\n",
       "<style scoped>\n",
       "    .dataframe tbody tr th:only-of-type {\n",
       "        vertical-align: middle;\n",
       "    }\n",
       "\n",
       "    .dataframe tbody tr th {\n",
       "        vertical-align: top;\n",
       "    }\n",
       "\n",
       "    .dataframe thead th {\n",
       "        text-align: right;\n",
       "    }\n",
       "</style>\n",
       "<table border=\"1\" class=\"dataframe\">\n",
       "  <thead>\n",
       "    <tr style=\"text-align: right;\">\n",
       "      <th></th>\n",
       "      <th>Train</th>\n",
       "      <th>Name</th>\n",
       "    </tr>\n",
       "  </thead>\n",
       "  <tbody>\n",
       "    <tr>\n",
       "      <th>0</th>\n",
       "      <td>263</td>\n",
       "      <td>Black-grass</td>\n",
       "    </tr>\n",
       "    <tr>\n",
       "      <th>1</th>\n",
       "      <td>390</td>\n",
       "      <td>Charlock</td>\n",
       "    </tr>\n",
       "    <tr>\n",
       "      <th>2</th>\n",
       "      <td>287</td>\n",
       "      <td>Cleavers</td>\n",
       "    </tr>\n",
       "    <tr>\n",
       "      <th>3</th>\n",
       "      <td>611</td>\n",
       "      <td>Common Chickweed</td>\n",
       "    </tr>\n",
       "    <tr>\n",
       "      <th>4</th>\n",
       "      <td>221</td>\n",
       "      <td>Common wheat</td>\n",
       "    </tr>\n",
       "    <tr>\n",
       "      <th>5</th>\n",
       "      <td>475</td>\n",
       "      <td>Fat Hen</td>\n",
       "    </tr>\n",
       "    <tr>\n",
       "      <th>6</th>\n",
       "      <td>671</td>\n",
       "      <td>Loose Silky-bent</td>\n",
       "    </tr>\n",
       "    <tr>\n",
       "      <th>7</th>\n",
       "      <td>221</td>\n",
       "      <td>Maize</td>\n",
       "    </tr>\n",
       "    <tr>\n",
       "      <th>8</th>\n",
       "      <td>516</td>\n",
       "      <td>Scentless Mayweed</td>\n",
       "    </tr>\n",
       "    <tr>\n",
       "      <th>9</th>\n",
       "      <td>231</td>\n",
       "      <td>Shepherds Purse</td>\n",
       "    </tr>\n",
       "    <tr>\n",
       "      <th>10</th>\n",
       "      <td>496</td>\n",
       "      <td>Small-flowered Cranesbill</td>\n",
       "    </tr>\n",
       "    <tr>\n",
       "      <th>11</th>\n",
       "      <td>385</td>\n",
       "      <td>Sugar beet</td>\n",
       "    </tr>\n",
       "  </tbody>\n",
       "</table>\n",
       "</div>"
      ],
      "text/plain": [
       "    Train                       Name\n",
       "0     263                Black-grass\n",
       "1     390                   Charlock\n",
       "2     287                   Cleavers\n",
       "3     611           Common Chickweed\n",
       "4     221               Common wheat\n",
       "5     475                    Fat Hen\n",
       "6     671           Loose Silky-bent\n",
       "7     221                      Maize\n",
       "8     516          Scentless Mayweed\n",
       "9     231            Shepherds Purse\n",
       "10    496  Small-flowered Cranesbill\n",
       "11    385                 Sugar beet"
      ]
     },
     "execution_count": 5,
     "metadata": {},
     "output_type": "execute_result"
    }
   ],
   "source": [
    "n_train = train_labels.shape[0]\n",
    "\n",
    "_, train_count = np.unique(train_labels,return_counts=True)\n",
    "\n",
    "df = pd.DataFrame(data = train_count)\n",
    "# df = df.T\n",
    "df['Index'] = class_names\n",
    "df.columns = ['Train','Name']\n",
    "df"
   ]
  },
  {
   "cell_type": "code",
   "execution_count": 6,
   "id": "1a97f543",
   "metadata": {},
   "outputs": [
    {
     "data": {
      "image/png": "[encoded data removed]",
      "text/plain": [
       "<Figure size 432x288 with 1 Axes>"
      ]
     },
     "metadata": {
      "needs_background": "light"
     },
     "output_type": "display_data"
    }
   ],
   "source": [
    "df.set_index(\"Name\").plot.bar()\n",
    "plt.xlabel(\"Type of seedling\")\n",
    "plt.ylabel(\"Count\")\n",
    "plt.title(\"Number of different type of seedlings\");"
   ]
  },
  {
   "cell_type": "raw",
   "id": "7658ab94",
   "metadata": {},
   "source": [
    "It can be inferred from the above bar chart that the maximum number of images belong to the class Loose Silky-bent. There is class imbalance with 5 classes having really low number of images while 2 classes have a high number of images with the rest around the median. This can also be realized using the below pie chart."
   ]
  },
  {
   "cell_type": "code",
   "execution_count": 7,
   "id": "132b6717",
   "metadata": {},
   "outputs": [
    {
     "data": {
      "image/png": "[encoded data removed]",
      "text/plain": [
       "<Figure size 432x288 with 1 Axes>"
      ]
     },
     "metadata": {},
     "output_type": "display_data"
    }
   ],
   "source": [
    "plt.pie(train_count,\n",
    "       explode=(0,0,0,0,0,0,0,0,0,0,0,0),\n",
    "       labels = class_names,\n",
    "       autopct = \"%1.1f%%\")\n",
    "plt.axis('equal')\n",
    "plt.title(\"Proportion of each observed category in the train dataset\")\n",
    "plt.show();"
   ]
  },
  {
   "cell_type": "code",
   "execution_count": 8,
   "id": "5fa691e8",
   "metadata": {},
   "outputs": [],
   "source": [
    "def show_final_history(history):\n",
    "    fig, ax = plt.subplots(1,2,figsize=(15,5))\n",
    "    ax[0].set_title(\"Loss\")\n",
    "    ax[1].set_title(\"Accuracy\")\n",
    "    ax[0].plot(history.history[\"loss\"],label=\"Loss\")\n",
    "    ax[0].plot(history.history[\"val_loss\"],label=\"Test Loss\")\n",
    "    ax[1].plot(history.history[\"accuracy\"],label=\"Accuracy\")\n",
    "    ax[1].plot(history.history[\"val_accuracy\"],label=\"Test Accuracy\")\n",
    "    \n",
    "    ax[0].legend(loc=\"upper right\")\n",
    "    ax[1].legend(loc=\"lower right\")"
   ]
  },
  {
   "cell_type": "code",
   "execution_count": 9,
   "id": "25c0fceb",
   "metadata": {},
   "outputs": [
    {
     "data": {
      "text/plain": [
       "array([ 0.,  0.,  0., ..., 11., 11., 11.], dtype=float32)"
      ]
     },
     "execution_count": 9,
     "metadata": {},
     "output_type": "execute_result"
    }
   ],
   "source": [
    "train_labels"
   ]
  },
  {
   "cell_type": "code",
   "execution_count": 10,
   "id": "bae8b06a",
   "metadata": {},
   "outputs": [
    {
     "data": {
      "text/plain": [
       "(4767,)"
      ]
     },
     "execution_count": 10,
     "metadata": {},
     "output_type": "execute_result"
    }
   ],
   "source": [
    "train_labels.shape"
   ]
  },
  {
   "cell_type": "code",
   "execution_count": 11,
   "id": "c6af2502",
   "metadata": {},
   "outputs": [],
   "source": [
    "train_y = train_labels"
   ]
  },
  {
   "cell_type": "code",
   "execution_count": 12,
   "id": "1fcbf122",
   "metadata": {},
   "outputs": [],
   "source": [
    "train_labels = to_categorical(train_labels,num_classes=nb_classes)"
   ]
  },
  {
   "cell_type": "code",
   "execution_count": 13,
   "id": "d932bc8d",
   "metadata": {},
   "outputs": [
    {
     "data": {
      "text/plain": [
       "(4767, 12)"
      ]
     },
     "execution_count": 13,
     "metadata": {},
     "output_type": "execute_result"
    }
   ],
   "source": [
    "train_labels.shape"
   ]
  },
  {
   "cell_type": "code",
   "execution_count": 14,
   "id": "55b47766",
   "metadata": {},
   "outputs": [],
   "source": [
    "X_train,X_val,y_train,y_val = train_test_split(train_images,train_labels,test_size=0.3)"
   ]
  },
  {
   "cell_type": "code",
   "execution_count": 40,
   "id": "023037dd",
   "metadata": {},
   "outputs": [],
   "source": [
    "train_dir = \"train-20210503T055555Z-001/train\"\n",
    "\n",
    "batch_size = 16\n",
    "\n",
    "IGD = ImageDataGenerator(rescale=1./255,\n",
    "                        horizontal_flip=True,\n",
    "                        vertical_flip=True,\n",
    "                        rotation_range=20)\n",
    "#                         validation_split=0.3)\n",
    "\n",
    "train_generator = IGD.flow(x=X_train,\n",
    "                          y=y_train,\n",
    "                          batch_size=batch_size,\n",
    "                          shuffle=True,\n",
    "                          seed=42)\n",
    "#                           subset=\"training\")\n",
    "\n",
    "validation_generator = IGD.flow(x=X_val,\n",
    "                               y=y_val,\n",
    "                               batch_size=batch_size,\n",
    "                               shuffle=True,\n",
    "                               seed=42)\n",
    "#                                subset=\"validation\")"
   ]
  },
  {
   "cell_type": "code",
   "execution_count": 41,
   "id": "56ee9b66",
   "metadata": {},
   "outputs": [],
   "source": [
    "def conv_block(X,k,filters,stage,block,s=2):\n",
    "    \n",
    "    conv_base_name = 'res_' + str(stage) + block + '_branch'\n",
    "    bn_base_name = 'bn_' + str(stage) + block + \"_branch\"\n",
    "    \n",
    "    F1 = filters\n",
    "    \n",
    "    X = Conv2D(filters=F1,kernel_size=(k,k),strides=(s,s),\n",
    "              padding='same',name=conv_base_name)(X)\n",
    "    X = BatchNormalization(name=bn_base_name)(X)\n",
    "#     X = MaxPooling2D((3,3))(X)\n",
    "    X = Activation('relu')(X)\n",
    "    \n",
    "    return X\n",
    "    pass"
   ]
  },
  {
   "cell_type": "code",
   "execution_count": 42,
   "id": "7389288c",
   "metadata": {},
   "outputs": [],
   "source": [
    "def conv_model(input_shape,classes):\n",
    "    \n",
    "    X_input = Input(input_shape)\n",
    "    \n",
    "    # Stage 1\n",
    "    X = Conv2D(64,(5,5),strides=(2,2),name='conv1')(X_input)\n",
    "    X = BatchNormalization(name='bn_conv1')(X)\n",
    "#     X = MaxPooling2D((3,3))(X)\n",
    "#     X = Activation('relu')(X)\n",
    "#     X = Dropout(0.1)(X)\n",
    "    \n",
    "    # Stage 2\n",
    "    X = conv_block(X,5,64,2,block='A',s=1)\n",
    "    X = MaxPooling2D((2,2))(X)\n",
    "    X = Dropout(0.1)(X)\n",
    "    \n",
    "    # Stage 3 \n",
    "    X = conv_block(X,3,128,3,block='A',s=1)\n",
    "    X = MaxPooling2D((3,3))(X)\n",
    "    X = Dropout(0.1)(X)\n",
    "    \n",
    "    # Stage 4\n",
    "    X = conv_block(X,5,256,4,block='A',s=1)\n",
    "    X = Dropout(0.1)(X)\n",
    "    \n",
    "    # Output Layer\n",
    "    X = Flatten()(X)\n",
    "    X = Dense(256)(X)\n",
    "    X = Dense(256)(X)\n",
    "    X = Activation('relu')(X)\n",
    "    X = Dense(classes,activation='softmax',name='fc'+str(classes))(X)\n",
    "    \n",
    "    model = Model(inputs=X_input,outputs=X,name='CNN')\n",
    "    \n",
    "    return model\n",
    "    pass"
   ]
  },
  {
   "cell_type": "code",
   "execution_count": 43,
   "id": "a302c56f",
   "metadata": {},
   "outputs": [],
   "source": [
    "model = conv_model(input_shape=(150,150,3),classes=nb_classes)"
   ]
  },
  {
   "cell_type": "code",
   "execution_count": 45,
   "id": "ad9795db",
   "metadata": {},
   "outputs": [
    {
     "name": "stdout",
     "output_type": "stream",
     "text": [
      "Model: \"CNN\"\n",
      "_________________________________________________________________\n",
      "Layer (type)                 Output Shape              Param #   \n",
      "=================================================================\n",
      "input_3 (InputLayer)         [(None, 150, 150, 3)]     0         \n",
      "_________________________________________________________________\n",
      "conv1 (Conv2D)               (None, 73, 73, 64)        4864      \n",
      "_________________________________________________________________\n",
      "bn_conv1 (BatchNormalization (None, 73, 73, 64)        256       \n",
      "_________________________________________________________________\n",
      "res_2A_branch (Conv2D)       (None, 73, 73, 64)        102464    \n",
      "_________________________________________________________________\n",
      "bn_2A_branch (BatchNormaliza (None, 73, 73, 64)        256       \n",
      "_________________________________________________________________\n",
      "activation_4 (Activation)    (None, 73, 73, 64)        0         \n",
      "_________________________________________________________________\n",
      "max_pooling2d_2 (MaxPooling2 (None, 36, 36, 64)        0         \n",
      "_________________________________________________________________\n",
      "dropout_3 (Dropout)          (None, 36, 36, 64)        0         \n",
      "_________________________________________________________________\n",
      "res_3A_branch (Conv2D)       (None, 36, 36, 128)       73856     \n",
      "_________________________________________________________________\n",
      "bn_3A_branch (BatchNormaliza (None, 36, 36, 128)       512       \n",
      "_________________________________________________________________\n",
      "activation_5 (Activation)    (None, 36, 36, 128)       0         \n",
      "_________________________________________________________________\n",
      "max_pooling2d_3 (MaxPooling2 (None, 12, 12, 128)       0         \n",
      "_________________________________________________________________\n",
      "dropout_4 (Dropout)          (None, 12, 12, 128)       0         \n",
      "_________________________________________________________________\n",
      "res_4A_branch (Conv2D)       (None, 12, 12, 256)       819456    \n",
      "_________________________________________________________________\n",
      "bn_4A_branch (BatchNormaliza (None, 12, 12, 256)       1024      \n",
      "_________________________________________________________________\n",
      "activation_6 (Activation)    (None, 12, 12, 256)       0         \n",
      "_________________________________________________________________\n",
      "dropout_5 (Dropout)          (None, 12, 12, 256)       0         \n",
      "_________________________________________________________________\n",
      "flatten_1 (Flatten)          (None, 36864)             0         \n",
      "_________________________________________________________________\n",
      "dense_2 (Dense)              (None, 256)               9437440   \n",
      "_________________________________________________________________\n",
      "dense_3 (Dense)              (None, 256)               65792     \n",
      "_________________________________________________________________\n",
      "activation_7 (Activation)    (None, 256)               0         \n",
      "_________________________________________________________________\n",
      "fc12 (Dense)                 (None, 12)                3084      \n",
      "=================================================================\n",
      "Total params: 10,509,004\n",
      "Trainable params: 10,507,980\n",
      "Non-trainable params: 1,024\n",
      "_________________________________________________________________\n"
     ]
    }
   ],
   "source": [
    "model.summary()"
   ]
  },
  {
   "cell_type": "code",
   "execution_count": 46,
   "id": "3481ad41",
   "metadata": {},
   "outputs": [],
   "source": [
    "opt = SGD(lr=0.0001,momentum=0.95)\n",
    "model.compile(optimizer=opt,loss='categorical_crossentropy',metrics=['accuracy'])"
   ]
  },
  {
   "cell_type": "code",
   "execution_count": 47,
   "id": "84d6d254",
   "metadata": {},
   "outputs": [],
   "source": [
    "checkpoint = ModelCheckpoint(\"model_weights.h5\",monitor='val_accuracy',verbose=1,\n",
    "                             save_best_only=True,mode=\"max\")\n",
    "callbacks_list = [checkpoint]"
   ]
  },
  {
   "cell_type": "code",
   "execution_count": 48,
   "id": "3ebe20cd",
   "metadata": {},
   "outputs": [
    {
     "name": "stderr",
     "output_type": "stream",
     "text": [
      "c:\\users\\kgeethika\\appdata\\local\\programs\\python\\python38\\lib\\site-packages\\tensorflow\\python\\keras\\engine\\training.py:1844: UserWarning: `Model.fit_generator` is deprecated and will be removed in a future version. Please use `Model.fit`, which supports generators.\n",
      "  warnings.warn('`Model.fit_generator` is deprecated and '\n"
     ]
    },
    {
     "name": "stdout",
     "output_type": "stream",
     "text": [
      "Epoch 1/125\n",
      "208/208 [==============================] - 234s 1s/step - loss: 2.3779 - accuracy: 0.2061 - val_loss: 4.4452 - val_accuracy: 0.1313\n",
      "\n",
      "Epoch 00001: val_accuracy improved from -inf to 0.13132, saving model to model_weights.h5\n",
      "Epoch 2/125\n",
      "208/208 [==============================] - 234s 1s/step - loss: 1.3433 - accuracy: 0.5287 - val_loss: 5.6730 - val_accuracy: 0.0878\n",
      "\n",
      "Epoch 00002: val_accuracy did not improve from 0.13132\n",
      "Epoch 3/125\n",
      "208/208 [==============================] - 232s 1s/step - loss: 1.0519 - accuracy: 0.6464 - val_loss: 2.1307 - val_accuracy: 0.3006\n",
      "\n",
      "Epoch 00003: val_accuracy improved from 0.13132 to 0.30056, saving model to model_weights.h5\n",
      "Epoch 4/125\n",
      "208/208 [==============================] - 233s 1s/step - loss: 0.8638 - accuracy: 0.7122 - val_loss: 1.5370 - val_accuracy: 0.4951\n",
      "\n",
      "Epoch 00004: val_accuracy improved from 0.30056 to 0.49508, saving model to model_weights.h5\n",
      "Epoch 5/125\n",
      "208/208 [==============================] - 230s 1s/step - loss: 0.7881 - accuracy: 0.7367 - val_loss: 1.0326 - val_accuracy: 0.6264\n",
      "\n",
      "Epoch 00005: val_accuracy improved from 0.49508 to 0.62640, saving model to model_weights.h5\n",
      "Epoch 6/125\n",
      "208/208 [==============================] - 231s 1s/step - loss: 0.6927 - accuracy: 0.7805 - val_loss: 0.8242 - val_accuracy: 0.7121\n",
      "\n",
      "Epoch 00006: val_accuracy improved from 0.62640 to 0.71208, saving model to model_weights.h5\n",
      "Epoch 7/125\n",
      "208/208 [==============================] - 229s 1s/step - loss: 0.6542 - accuracy: 0.7778 - val_loss: 0.8041 - val_accuracy: 0.7233\n",
      "\n",
      "Epoch 00007: val_accuracy improved from 0.71208 to 0.72331, saving model to model_weights.h5\n",
      "Epoch 8/125\n",
      "208/208 [==============================] - 229s 1s/step - loss: 0.5940 - accuracy: 0.7976 - val_loss: 0.8034 - val_accuracy: 0.7205\n",
      "\n",
      "Epoch 00008: val_accuracy did not improve from 0.72331\n",
      "Epoch 9/125\n",
      "208/208 [==============================] - 229s 1s/step - loss: 0.5723 - accuracy: 0.8184 - val_loss: 0.7795 - val_accuracy: 0.7254\n",
      "\n",
      "Epoch 00009: val_accuracy improved from 0.72331 to 0.72542, saving model to model_weights.h5\n",
      "Epoch 10/125\n",
      "208/208 [==============================] - 233s 1s/step - loss: 0.5101 - accuracy: 0.8269 - val_loss: 0.6941 - val_accuracy: 0.7626\n",
      "\n",
      "Epoch 00010: val_accuracy improved from 0.72542 to 0.76264, saving model to model_weights.h5\n",
      "Epoch 11/125\n",
      "208/208 [==============================] - 234s 1s/step - loss: 0.4838 - accuracy: 0.8335 - val_loss: 0.7117 - val_accuracy: 0.7647\n",
      "\n",
      "Epoch 00011: val_accuracy improved from 0.76264 to 0.76475, saving model to model_weights.h5\n",
      "Epoch 12/125\n",
      "208/208 [==============================] - 232s 1s/step - loss: 0.4496 - accuracy: 0.8418 - val_loss: 0.6275 - val_accuracy: 0.7886\n",
      "\n",
      "Epoch 00012: val_accuracy improved from 0.76475 to 0.78862, saving model to model_weights.h5\n",
      "Epoch 13/125\n",
      "208/208 [==============================] - 230s 1s/step - loss: 0.4283 - accuracy: 0.8511 - val_loss: 0.5348 - val_accuracy: 0.8301\n",
      "\n",
      "Epoch 00013: val_accuracy improved from 0.78862 to 0.83006, saving model to model_weights.h5\n",
      "Epoch 14/125\n",
      "208/208 [==============================] - 231s 1s/step - loss: 0.4122 - accuracy: 0.8649 - val_loss: 0.5619 - val_accuracy: 0.8090\n",
      "\n",
      "Epoch 00014: val_accuracy did not improve from 0.83006\n",
      "Epoch 15/125\n",
      "208/208 [==============================] - 234s 1s/step - loss: 0.3806 - accuracy: 0.8752 - val_loss: 0.9700 - val_accuracy: 0.6854\n",
      "\n",
      "Epoch 00015: val_accuracy did not improve from 0.83006\n",
      "Epoch 16/125\n",
      "208/208 [==============================] - 231s 1s/step - loss: 0.4088 - accuracy: 0.8624 - val_loss: 0.5171 - val_accuracy: 0.8111\n",
      "\n",
      "Epoch 00016: val_accuracy did not improve from 0.83006\n",
      "Epoch 17/125\n",
      "208/208 [==============================] - 230s 1s/step - loss: 0.3490 - accuracy: 0.8846 - val_loss: 0.4947 - val_accuracy: 0.8287\n",
      "\n",
      "Epoch 00017: val_accuracy did not improve from 0.83006\n",
      "Epoch 18/125\n",
      "208/208 [==============================] - 231s 1s/step - loss: 0.3357 - accuracy: 0.8815 - val_loss: 0.5152 - val_accuracy: 0.8265\n",
      "\n",
      "Epoch 00018: val_accuracy did not improve from 0.83006\n",
      "Epoch 19/125\n",
      "208/208 [==============================] - 231s 1s/step - loss: 0.3618 - accuracy: 0.8696 - val_loss: 0.5993 - val_accuracy: 0.8013\n",
      "\n",
      "Epoch 00019: val_accuracy did not improve from 0.83006\n",
      "Epoch 20/125\n",
      "208/208 [==============================] - 233s 1s/step - loss: 0.3460 - accuracy: 0.8910 - val_loss: 0.5628 - val_accuracy: 0.7985\n",
      "\n",
      "Epoch 00020: val_accuracy did not improve from 0.83006\n",
      "Epoch 21/125\n",
      "208/208 [==============================] - 231s 1s/step - loss: 0.3147 - accuracy: 0.8865 - val_loss: 0.8864 - val_accuracy: 0.7219\n",
      "\n",
      "Epoch 00021: val_accuracy did not improve from 0.83006\n",
      "Epoch 22/125\n",
      "208/208 [==============================] - 231s 1s/step - loss: 0.2861 - accuracy: 0.8952 - val_loss: 0.6581 - val_accuracy: 0.7774\n",
      "\n",
      "Epoch 00022: val_accuracy did not improve from 0.83006\n",
      "Epoch 23/125\n",
      "208/208 [==============================] - 231s 1s/step - loss: 0.3218 - accuracy: 0.8832 - val_loss: 0.9236 - val_accuracy: 0.7135\n",
      "\n",
      "Epoch 00023: val_accuracy did not improve from 0.83006\n",
      "Epoch 24/125\n",
      "208/208 [==============================] - 231s 1s/step - loss: 0.2913 - accuracy: 0.8953 - val_loss: 0.4221 - val_accuracy: 0.8574\n",
      "\n",
      "Epoch 00024: val_accuracy improved from 0.83006 to 0.85744, saving model to model_weights.h5\n",
      "Epoch 25/125\n",
      "208/208 [==============================] - 230s 1s/step - loss: 0.2731 - accuracy: 0.9123 - val_loss: 0.5995 - val_accuracy: 0.8111\n",
      "\n",
      "Epoch 00025: val_accuracy did not improve from 0.85744\n",
      "Epoch 26/125\n",
      "208/208 [==============================] - 233s 1s/step - loss: 0.2519 - accuracy: 0.9149 - val_loss: 0.4012 - val_accuracy: 0.8645\n",
      "\n",
      "Epoch 00026: val_accuracy improved from 0.85744 to 0.86447, saving model to model_weights.h5\n",
      "Epoch 27/125\n",
      "208/208 [==============================] - 233s 1s/step - loss: 0.2564 - accuracy: 0.9082 - val_loss: 0.4547 - val_accuracy: 0.8434\n",
      "\n",
      "Epoch 00027: val_accuracy did not improve from 0.86447\n",
      "Epoch 28/125\n",
      "208/208 [==============================] - 231s 1s/step - loss: 0.2561 - accuracy: 0.9092 - val_loss: 0.4529 - val_accuracy: 0.8490\n",
      "\n",
      "Epoch 00028: val_accuracy did not improve from 0.86447\n",
      "Epoch 29/125\n",
      "208/208 [==============================] - 231s 1s/step - loss: 0.2565 - accuracy: 0.9120 - val_loss: 0.4169 - val_accuracy: 0.8588\n",
      "\n",
      "Epoch 00029: val_accuracy did not improve from 0.86447\n",
      "Epoch 30/125\n",
      "208/208 [==============================] - 230s 1s/step - loss: 0.2326 - accuracy: 0.9160 - val_loss: 0.4303 - val_accuracy: 0.8581\n",
      "\n",
      "Epoch 00030: val_accuracy did not improve from 0.86447\n",
      "Epoch 31/125\n",
      "208/208 [==============================] - 233s 1s/step - loss: 0.2308 - accuracy: 0.9241 - val_loss: 0.3622 - val_accuracy: 0.8687\n",
      "\n",
      "Epoch 00031: val_accuracy improved from 0.86447 to 0.86868, saving model to model_weights.h5\n",
      "Epoch 32/125\n",
      "208/208 [==============================] - 230s 1s/step - loss: 0.2265 - accuracy: 0.9191 - val_loss: 0.4394 - val_accuracy: 0.8624\n",
      "\n",
      "Epoch 00032: val_accuracy did not improve from 0.86868\n",
      "Epoch 33/125\n",
      "208/208 [==============================] - 230s 1s/step - loss: 0.2345 - accuracy: 0.9166 - val_loss: 0.5109 - val_accuracy: 0.8265\n",
      "\n",
      "Epoch 00033: val_accuracy did not improve from 0.86868\n",
      "Epoch 34/125\n",
      "208/208 [==============================] - 229s 1s/step - loss: 0.2132 - accuracy: 0.9232 - val_loss: 0.5757 - val_accuracy: 0.8174\n",
      "\n",
      "Epoch 00034: val_accuracy did not improve from 0.86868\n",
      "Epoch 35/125\n",
      "208/208 [==============================] - 230s 1s/step - loss: 0.2156 - accuracy: 0.9270 - val_loss: 0.3388 - val_accuracy: 0.8799\n",
      "\n",
      "Epoch 00035: val_accuracy improved from 0.86868 to 0.87992, saving model to model_weights.h5\n",
      "Epoch 36/125\n",
      "208/208 [==============================] - 229s 1s/step - loss: 0.2003 - accuracy: 0.9263 - val_loss: 0.3494 - val_accuracy: 0.8855\n",
      "\n",
      "Epoch 00036: val_accuracy improved from 0.87992 to 0.88553, saving model to model_weights.h5\n",
      "Epoch 37/125\n",
      "208/208 [==============================] - 230s 1s/step - loss: 0.1963 - accuracy: 0.9350 - val_loss: 0.4343 - val_accuracy: 0.8483\n",
      "\n",
      "Epoch 00037: val_accuracy did not improve from 0.88553\n",
      "Epoch 38/125\n",
      "208/208 [==============================] - 232s 1s/step - loss: 0.1784 - accuracy: 0.9350 - val_loss: 0.6097 - val_accuracy: 0.8034\n",
      "\n",
      "Epoch 00038: val_accuracy did not improve from 0.88553\n",
      "Epoch 39/125\n",
      "208/208 [==============================] - 230s 1s/step - loss: 0.2062 - accuracy: 0.9226 - val_loss: 0.4366 - val_accuracy: 0.8652\n",
      "\n",
      "Epoch 00039: val_accuracy did not improve from 0.88553\n",
      "Epoch 40/125\n",
      "208/208 [==============================] - 230s 1s/step - loss: 0.1720 - accuracy: 0.9415 - val_loss: 0.3393 - val_accuracy: 0.8855\n",
      "\n",
      "Epoch 00040: val_accuracy did not improve from 0.88553\n",
      "Epoch 41/125\n",
      "208/208 [==============================] - 239s 1s/step - loss: 0.1824 - accuracy: 0.9360 - val_loss: 0.3766 - val_accuracy: 0.8694\n",
      "\n",
      "Epoch 00041: val_accuracy did not improve from 0.88553\n",
      "Epoch 42/125\n",
      "208/208 [==============================] - 236s 1s/step - loss: 0.1688 - accuracy: 0.9464 - val_loss: 0.3660 - val_accuracy: 0.8855\n",
      "\n",
      "Epoch 00042: val_accuracy did not improve from 0.88553\n",
      "Epoch 43/125\n",
      "208/208 [==============================] - 239s 1s/step - loss: 0.1573 - accuracy: 0.9464 - val_loss: 0.2969 - val_accuracy: 0.8954\n",
      "\n",
      "Epoch 00043: val_accuracy improved from 0.88553 to 0.89537, saving model to model_weights.h5\n",
      "Epoch 44/125\n",
      "208/208 [==============================] - 232s 1s/step - loss: 0.1811 - accuracy: 0.9365 - val_loss: 0.3347 - val_accuracy: 0.8897\n",
      "\n",
      "Epoch 00044: val_accuracy did not improve from 0.89537\n",
      "Epoch 45/125\n",
      "208/208 [==============================] - 231s 1s/step - loss: 0.1682 - accuracy: 0.9408 - val_loss: 0.3873 - val_accuracy: 0.8708\n",
      "\n",
      "Epoch 00045: val_accuracy did not improve from 0.89537\n",
      "Epoch 46/125\n",
      "208/208 [==============================] - 232s 1s/step - loss: 0.1587 - accuracy: 0.9469 - val_loss: 0.3505 - val_accuracy: 0.8750\n",
      "\n",
      "Epoch 00046: val_accuracy did not improve from 0.89537\n",
      "Epoch 47/125\n",
      "208/208 [==============================] - 233s 1s/step - loss: 0.1682 - accuracy: 0.9425 - val_loss: 0.3556 - val_accuracy: 0.8750\n",
      "\n",
      "Epoch 00047: val_accuracy did not improve from 0.89537\n",
      "Epoch 48/125\n",
      "208/208 [==============================] - 230s 1s/step - loss: 0.1331 - accuracy: 0.9604 - val_loss: 0.4059 - val_accuracy: 0.8687\n",
      "\n",
      "Epoch 00048: val_accuracy did not improve from 0.89537\n",
      "Epoch 49/125\n",
      "208/208 [==============================] - 230s 1s/step - loss: 0.1396 - accuracy: 0.9506 - val_loss: 0.4463 - val_accuracy: 0.8511\n",
      "\n",
      "Epoch 00049: val_accuracy did not improve from 0.89537\n",
      "Epoch 50/125\n",
      "208/208 [==============================] - 231s 1s/step - loss: 0.1624 - accuracy: 0.9461 - val_loss: 0.3105 - val_accuracy: 0.8904\n",
      "\n",
      "Epoch 00050: val_accuracy did not improve from 0.89537\n",
      "Epoch 51/125\n",
      "208/208 [==============================] - 230s 1s/step - loss: 0.1464 - accuracy: 0.9505 - val_loss: 0.3017 - val_accuracy: 0.8975\n",
      "\n",
      "Epoch 00051: val_accuracy improved from 0.89537 to 0.89747, saving model to model_weights.h5\n",
      "Epoch 52/125\n",
      "208/208 [==============================] - 230s 1s/step - loss: 0.1409 - accuracy: 0.9455 - val_loss: 0.3496 - val_accuracy: 0.8926\n",
      "\n",
      "Epoch 00052: val_accuracy did not improve from 0.89747\n",
      "Epoch 53/125\n",
      "208/208 [==============================] - 230s 1s/step - loss: 0.1453 - accuracy: 0.9464 - val_loss: 0.3389 - val_accuracy: 0.8954\n",
      "\n",
      "Epoch 00053: val_accuracy did not improve from 0.89747\n",
      "Epoch 54/125\n",
      "208/208 [==============================] - 230s 1s/step - loss: 0.1357 - accuracy: 0.9525 - val_loss: 0.4279 - val_accuracy: 0.8532\n",
      "\n",
      "Epoch 00054: val_accuracy did not improve from 0.89747\n",
      "Epoch 55/125\n",
      "208/208 [==============================] - 231s 1s/step - loss: 0.1493 - accuracy: 0.9481 - val_loss: 0.3312 - val_accuracy: 0.8876\n",
      "\n",
      "Epoch 00055: val_accuracy did not improve from 0.89747\n",
      "Epoch 56/125\n",
      "208/208 [==============================] - 230s 1s/step - loss: 0.1456 - accuracy: 0.9516 - val_loss: 0.3735 - val_accuracy: 0.8708\n",
      "\n",
      "Epoch 00056: val_accuracy did not improve from 0.89747\n",
      "Epoch 57/125\n",
      "208/208 [==============================] - 230s 1s/step - loss: 0.1327 - accuracy: 0.9505 - val_loss: 0.3152 - val_accuracy: 0.8883\n",
      "\n",
      "Epoch 00057: val_accuracy did not improve from 0.89747\n",
      "Epoch 58/125\n",
      "208/208 [==============================] - 233s 1s/step - loss: 0.1225 - accuracy: 0.9465 - val_loss: 0.3151 - val_accuracy: 0.8947\n",
      "\n",
      "Epoch 00058: val_accuracy did not improve from 0.89747\n",
      "Epoch 59/125\n",
      "208/208 [==============================] - 230s 1s/step - loss: 0.1176 - accuracy: 0.9598 - val_loss: 0.3601 - val_accuracy: 0.8799\n",
      "\n",
      "Epoch 00059: val_accuracy did not improve from 0.89747\n",
      "Epoch 60/125\n",
      "208/208 [==============================] - 230s 1s/step - loss: 0.1469 - accuracy: 0.9406 - val_loss: 0.3217 - val_accuracy: 0.8897\n",
      "\n",
      "Epoch 00060: val_accuracy did not improve from 0.89747\n",
      "Epoch 61/125\n",
      "208/208 [==============================] - 229s 1s/step - loss: 0.1358 - accuracy: 0.9496 - val_loss: 0.3354 - val_accuracy: 0.8926\n",
      "\n",
      "Epoch 00061: val_accuracy did not improve from 0.89747\n",
      "Epoch 62/125\n",
      "208/208 [==============================] - 230s 1s/step - loss: 0.1164 - accuracy: 0.9592 - val_loss: 0.3210 - val_accuracy: 0.8862\n",
      "\n",
      "Epoch 00062: val_accuracy did not improve from 0.89747\n",
      "Epoch 63/125\n",
      "208/208 [==============================] - 233s 1s/step - loss: 0.1219 - accuracy: 0.9518 - val_loss: 0.2804 - val_accuracy: 0.9066\n",
      "\n",
      "Epoch 00063: val_accuracy improved from 0.89747 to 0.90660, saving model to model_weights.h5\n",
      "Epoch 64/125\n",
      "208/208 [==============================] - 232s 1s/step - loss: 0.1137 - accuracy: 0.9586 - val_loss: 0.3443 - val_accuracy: 0.8869\n",
      "\n",
      "Epoch 00064: val_accuracy did not improve from 0.90660\n",
      "Epoch 65/125\n",
      "208/208 [==============================] - 231s 1s/step - loss: 0.1150 - accuracy: 0.9603 - val_loss: 0.3280 - val_accuracy: 0.8947\n",
      "\n",
      "Epoch 00065: val_accuracy did not improve from 0.90660\n",
      "Epoch 66/125\n",
      "208/208 [==============================] - 232s 1s/step - loss: 0.1214 - accuracy: 0.9577 - val_loss: 0.3109 - val_accuracy: 0.9010\n",
      "\n",
      "Epoch 00066: val_accuracy did not improve from 0.90660\n",
      "Epoch 67/125\n",
      "208/208 [==============================] - 230s 1s/step - loss: 0.1114 - accuracy: 0.9635 - val_loss: 0.3729 - val_accuracy: 0.8862\n",
      "\n",
      "Epoch 00067: val_accuracy did not improve from 0.90660\n",
      "Epoch 68/125\n",
      "208/208 [==============================] - 231s 1s/step - loss: 0.1077 - accuracy: 0.9607 - val_loss: 0.3839 - val_accuracy: 0.8869\n",
      "\n",
      "Epoch 00068: val_accuracy did not improve from 0.90660\n",
      "Epoch 69/125\n",
      "208/208 [==============================] - 231s 1s/step - loss: 0.1082 - accuracy: 0.9647 - val_loss: 0.3095 - val_accuracy: 0.9017\n",
      "\n",
      "Epoch 00069: val_accuracy did not improve from 0.90660\n",
      "Epoch 70/125\n",
      "208/208 [==============================] - 230s 1s/step - loss: 0.1157 - accuracy: 0.9565 - val_loss: 0.2865 - val_accuracy: 0.9080\n",
      "\n",
      "Epoch 00070: val_accuracy improved from 0.90660 to 0.90801, saving model to model_weights.h5\n",
      "Epoch 71/125\n",
      "208/208 [==============================] - 229s 1s/step - loss: 0.1048 - accuracy: 0.9657 - val_loss: 0.2698 - val_accuracy: 0.9122\n",
      "\n",
      "Epoch 00071: val_accuracy improved from 0.90801 to 0.91222, saving model to model_weights.h5\n",
      "Epoch 72/125\n",
      "208/208 [==============================] - 229s 1s/step - loss: 0.0986 - accuracy: 0.9662 - val_loss: 0.3087 - val_accuracy: 0.8975\n",
      "\n",
      "Epoch 00072: val_accuracy did not improve from 0.91222\n",
      "Epoch 73/125\n",
      "208/208 [==============================] - 232s 1s/step - loss: 0.0959 - accuracy: 0.9696 - val_loss: 0.2823 - val_accuracy: 0.9101\n",
      "\n",
      "Epoch 00073: val_accuracy did not improve from 0.91222\n",
      "Epoch 74/125\n",
      "208/208 [==============================] - 230s 1s/step - loss: 0.0836 - accuracy: 0.9766 - val_loss: 0.3054 - val_accuracy: 0.9038\n",
      "\n",
      "Epoch 00074: val_accuracy did not improve from 0.91222\n",
      "Epoch 75/125\n",
      "208/208 [==============================] - 229s 1s/step - loss: 0.1089 - accuracy: 0.9632 - val_loss: 0.2826 - val_accuracy: 0.8954\n",
      "\n",
      "Epoch 00075: val_accuracy did not improve from 0.91222\n",
      "Epoch 76/125\n",
      "208/208 [==============================] - 230s 1s/step - loss: 0.0879 - accuracy: 0.9722 - val_loss: 0.2813 - val_accuracy: 0.9087\n",
      "\n",
      "Epoch 00076: val_accuracy did not improve from 0.91222\n",
      "Epoch 77/125\n",
      "208/208 [==============================] - 231s 1s/step - loss: 0.0940 - accuracy: 0.9700 - val_loss: 0.3311 - val_accuracy: 0.8933\n",
      "\n",
      "Epoch 00077: val_accuracy did not improve from 0.91222\n",
      "Epoch 78/125\n",
      "208/208 [==============================] - 232s 1s/step - loss: 0.1085 - accuracy: 0.9576 - val_loss: 0.3295 - val_accuracy: 0.8996\n",
      "\n",
      "Epoch 00078: val_accuracy did not improve from 0.91222\n",
      "Epoch 79/125\n",
      "208/208 [==============================] - 231s 1s/step - loss: 0.0891 - accuracy: 0.9710 - val_loss: 0.3951 - val_accuracy: 0.8792\n",
      "\n",
      "Epoch 00079: val_accuracy did not improve from 0.91222\n",
      "Epoch 80/125\n",
      "208/208 [==============================] - 228s 1s/step - loss: 0.0919 - accuracy: 0.9701 - val_loss: 0.3213 - val_accuracy: 0.8982\n",
      "\n",
      "Epoch 00080: val_accuracy did not improve from 0.91222\n",
      "Epoch 81/125\n",
      "208/208 [==============================] - 230s 1s/step - loss: 0.0918 - accuracy: 0.9680 - val_loss: 0.4566 - val_accuracy: 0.8560\n",
      "\n",
      "Epoch 00081: val_accuracy did not improve from 0.91222\n",
      "Epoch 82/125\n",
      "208/208 [==============================] - 232s 1s/step - loss: 0.1055 - accuracy: 0.9640 - val_loss: 0.3277 - val_accuracy: 0.8996\n",
      "\n",
      "Epoch 00082: val_accuracy did not improve from 0.91222\n",
      "Epoch 83/125\n",
      "208/208 [==============================] - 230s 1s/step - loss: 0.0826 - accuracy: 0.9751 - val_loss: 0.3723 - val_accuracy: 0.8848\n",
      "\n",
      "Epoch 00083: val_accuracy did not improve from 0.91222\n",
      "Epoch 84/125\n",
      "208/208 [==============================] - 230s 1s/step - loss: 0.0807 - accuracy: 0.9711 - val_loss: 0.3430 - val_accuracy: 0.8841\n",
      "\n",
      "Epoch 00084: val_accuracy did not improve from 0.91222\n",
      "Epoch 85/125\n",
      "208/208 [==============================] - 229s 1s/step - loss: 0.1019 - accuracy: 0.9605 - val_loss: 0.2954 - val_accuracy: 0.9024\n",
      "\n",
      "Epoch 00085: val_accuracy did not improve from 0.91222\n",
      "Epoch 86/125\n",
      "208/208 [==============================] - 229s 1s/step - loss: 0.0732 - accuracy: 0.9757 - val_loss: 0.3848 - val_accuracy: 0.8799\n",
      "\n",
      "Epoch 00086: val_accuracy did not improve from 0.91222\n",
      "Epoch 87/125\n",
      "208/208 [==============================] - 228s 1s/step - loss: 0.0715 - accuracy: 0.9759 - val_loss: 0.3326 - val_accuracy: 0.8897\n",
      "\n",
      "Epoch 00087: val_accuracy did not improve from 0.91222\n",
      "Epoch 88/125\n",
      "208/208 [==============================] - 228s 1s/step - loss: 0.0785 - accuracy: 0.9738 - val_loss: 0.3137 - val_accuracy: 0.9031\n",
      "\n",
      "Epoch 00088: val_accuracy did not improve from 0.91222\n",
      "Epoch 89/125\n",
      "208/208 [==============================] - 230s 1s/step - loss: 0.0728 - accuracy: 0.9737 - val_loss: 0.2945 - val_accuracy: 0.9003\n",
      "\n",
      "Epoch 00089: val_accuracy did not improve from 0.91222\n",
      "Epoch 90/125\n",
      "208/208 [==============================] - 229s 1s/step - loss: 0.0910 - accuracy: 0.9703 - val_loss: 0.3652 - val_accuracy: 0.8890\n",
      "\n",
      "Epoch 00090: val_accuracy did not improve from 0.91222\n",
      "Epoch 91/125\n",
      "208/208 [==============================] - 231s 1s/step - loss: 0.0723 - accuracy: 0.9815 - val_loss: 0.4010 - val_accuracy: 0.8813\n",
      "\n",
      "Epoch 00091: val_accuracy did not improve from 0.91222\n",
      "Epoch 92/125\n",
      "208/208 [==============================] - 231s 1s/step - loss: 0.0745 - accuracy: 0.9781 - val_loss: 0.3478 - val_accuracy: 0.8855\n",
      "\n",
      "Epoch 00092: val_accuracy did not improve from 0.91222\n",
      "Epoch 93/125\n",
      "208/208 [==============================] - 236s 1s/step - loss: 0.0777 - accuracy: 0.9714 - val_loss: 0.3395 - val_accuracy: 0.8876\n",
      "\n",
      "Epoch 00093: val_accuracy did not improve from 0.91222\n",
      "Epoch 94/125\n",
      "208/208 [==============================] - 230s 1s/step - loss: 0.0801 - accuracy: 0.9728 - val_loss: 0.4016 - val_accuracy: 0.8827\n",
      "\n",
      "Epoch 00094: val_accuracy did not improve from 0.91222\n",
      "Epoch 95/125\n",
      "208/208 [==============================] - 232s 1s/step - loss: 0.0713 - accuracy: 0.9751 - val_loss: 0.3168 - val_accuracy: 0.9003\n",
      "\n",
      "Epoch 00095: val_accuracy did not improve from 0.91222\n",
      "Epoch 96/125\n",
      "208/208 [==============================] - 230s 1s/step - loss: 0.0771 - accuracy: 0.9747 - val_loss: 0.3964 - val_accuracy: 0.8890\n",
      "\n",
      "Epoch 00096: val_accuracy did not improve from 0.91222\n",
      "Epoch 97/125\n",
      "208/208 [==============================] - 231s 1s/step - loss: 0.0765 - accuracy: 0.9717 - val_loss: 0.2781 - val_accuracy: 0.9052\n",
      "\n",
      "Epoch 00097: val_accuracy did not improve from 0.91222\n",
      "Epoch 98/125\n",
      "208/208 [==============================] - 230s 1s/step - loss: 0.0649 - accuracy: 0.9798 - val_loss: 0.3251 - val_accuracy: 0.8919\n",
      "\n",
      "Epoch 00098: val_accuracy did not improve from 0.91222\n",
      "Epoch 99/125\n",
      "208/208 [==============================] - 230s 1s/step - loss: 0.0574 - accuracy: 0.9807 - val_loss: 0.3701 - val_accuracy: 0.8876\n",
      "\n",
      "Epoch 00099: val_accuracy did not improve from 0.91222\n",
      "Epoch 100/125\n",
      "208/208 [==============================] - 232s 1s/step - loss: 0.0663 - accuracy: 0.9807 - val_loss: 0.2982 - val_accuracy: 0.9087\n",
      "\n",
      "Epoch 00100: val_accuracy did not improve from 0.91222\n",
      "Epoch 101/125\n",
      "208/208 [==============================] - 247s 1s/step - loss: 0.0671 - accuracy: 0.9810 - val_loss: 0.3648 - val_accuracy: 0.8876\n",
      "\n",
      "Epoch 00101: val_accuracy did not improve from 0.91222\n",
      "Epoch 102/125\n",
      "208/208 [==============================] - 242s 1s/step - loss: 0.0642 - accuracy: 0.9772 - val_loss: 0.2991 - val_accuracy: 0.9066\n",
      "\n",
      "Epoch 00102: val_accuracy did not improve from 0.91222\n",
      "Epoch 103/125\n",
      "208/208 [==============================] - 232s 1s/step - loss: 0.0582 - accuracy: 0.9828 - val_loss: 0.2965 - val_accuracy: 0.9115\n",
      "\n",
      "Epoch 00103: val_accuracy did not improve from 0.91222\n",
      "Epoch 104/125\n",
      "208/208 [==============================] - 253s 1s/step - loss: 0.0655 - accuracy: 0.9778 - val_loss: 0.3857 - val_accuracy: 0.8926\n",
      "\n",
      "Epoch 00104: val_accuracy did not improve from 0.91222\n",
      "Epoch 105/125\n",
      "208/208 [==============================] - 270s 1s/step - loss: 0.0673 - accuracy: 0.9781 - val_loss: 0.3282 - val_accuracy: 0.9038\n",
      "\n",
      "Epoch 00105: val_accuracy did not improve from 0.91222\n",
      "Epoch 106/125\n",
      "208/208 [==============================] - 264s 1s/step - loss: 0.0607 - accuracy: 0.9810 - val_loss: 0.3092 - val_accuracy: 0.8961\n",
      "\n",
      "Epoch 00106: val_accuracy did not improve from 0.91222\n",
      "Epoch 107/125\n",
      "208/208 [==============================] - 247s 1s/step - loss: 0.0747 - accuracy: 0.9736 - val_loss: 0.2908 - val_accuracy: 0.9031\n",
      "\n",
      "Epoch 00107: val_accuracy did not improve from 0.91222\n",
      "Epoch 108/125\n",
      "208/208 [==============================] - 233s 1s/step - loss: 0.0695 - accuracy: 0.9717 - val_loss: 0.2835 - val_accuracy: 0.9115\n",
      "\n",
      "Epoch 00108: val_accuracy did not improve from 0.91222\n",
      "Epoch 109/125\n",
      "208/208 [==============================] - 233s 1s/step - loss: 0.0569 - accuracy: 0.9818 - val_loss: 0.2970 - val_accuracy: 0.9108\n",
      "\n",
      "Epoch 00109: val_accuracy did not improve from 0.91222\n",
      "Epoch 110/125\n",
      "208/208 [==============================] - 233s 1s/step - loss: 0.0454 - accuracy: 0.9883 - val_loss: 0.3952 - val_accuracy: 0.8792\n",
      "\n",
      "Epoch 00110: val_accuracy did not improve from 0.91222\n",
      "Epoch 111/125\n",
      "208/208 [==============================] - 232s 1s/step - loss: 0.0725 - accuracy: 0.9786 - val_loss: 0.2903 - val_accuracy: 0.9115\n",
      "\n",
      "Epoch 00111: val_accuracy did not improve from 0.91222\n",
      "Epoch 112/125\n",
      "208/208 [==============================] - 234s 1s/step - loss: 0.0537 - accuracy: 0.9833 - val_loss: 0.2843 - val_accuracy: 0.9143\n",
      "\n",
      "Epoch 00112: val_accuracy improved from 0.91222 to 0.91433, saving model to model_weights.h5\n",
      "Epoch 113/125\n",
      "208/208 [==============================] - 250s 1s/step - loss: 0.0601 - accuracy: 0.9832 - val_loss: 0.3135 - val_accuracy: 0.8890\n",
      "\n",
      "Epoch 00113: val_accuracy did not improve from 0.91433\n",
      "Epoch 114/125\n",
      "208/208 [==============================] - 262s 1s/step - loss: 0.0592 - accuracy: 0.9807 - val_loss: 0.2955 - val_accuracy: 0.9038\n",
      "\n",
      "Epoch 00114: val_accuracy did not improve from 0.91433\n",
      "Epoch 115/125\n",
      "208/208 [==============================] - 257s 1s/step - loss: 0.0642 - accuracy: 0.9766 - val_loss: 0.3438 - val_accuracy: 0.8897\n",
      "\n",
      "Epoch 00115: val_accuracy did not improve from 0.91433\n",
      "Epoch 116/125\n",
      "208/208 [==============================] - 263s 1s/step - loss: 0.0753 - accuracy: 0.9759 - val_loss: 0.2992 - val_accuracy: 0.9115\n",
      "\n",
      "Epoch 00116: val_accuracy did not improve from 0.91433\n",
      "Epoch 117/125\n",
      "208/208 [==============================] - 256s 1s/step - loss: 0.0676 - accuracy: 0.9775 - val_loss: 0.3303 - val_accuracy: 0.8954\n",
      "\n",
      "Epoch 00117: val_accuracy did not improve from 0.91433\n",
      "Epoch 118/125\n",
      "208/208 [==============================] - 232s 1s/step - loss: 0.0483 - accuracy: 0.9857 - val_loss: 0.2796 - val_accuracy: 0.9178\n",
      "\n",
      "Epoch 00118: val_accuracy improved from 0.91433 to 0.91784, saving model to model_weights.h5\n",
      "Epoch 119/125\n",
      "208/208 [==============================] - 247s 1s/step - loss: 0.0566 - accuracy: 0.9788 - val_loss: 0.3055 - val_accuracy: 0.9045\n",
      "\n",
      "Epoch 00119: val_accuracy did not improve from 0.91784\n",
      "Epoch 120/125\n",
      "208/208 [==============================] - 261s 1s/step - loss: 0.0507 - accuracy: 0.9855 - val_loss: 0.2760 - val_accuracy: 0.9129\n",
      "\n",
      "Epoch 00120: val_accuracy did not improve from 0.91784\n",
      "Epoch 121/125\n",
      "208/208 [==============================] - 249s 1s/step - loss: 0.0529 - accuracy: 0.9843 - val_loss: 0.3883 - val_accuracy: 0.8919\n",
      "\n",
      "Epoch 00121: val_accuracy did not improve from 0.91784\n",
      "Epoch 122/125\n",
      "208/208 [==============================] - 254s 1s/step - loss: 0.0448 - accuracy: 0.9869 - val_loss: 0.2972 - val_accuracy: 0.9108\n",
      "\n",
      "Epoch 00122: val_accuracy did not improve from 0.91784\n",
      "Epoch 123/125\n",
      "208/208 [==============================] - 243s 1s/step - loss: 0.0492 - accuracy: 0.9844 - val_loss: 0.2832 - val_accuracy: 0.9122\n",
      "\n",
      "Epoch 00123: val_accuracy did not improve from 0.91784\n",
      "Epoch 124/125\n",
      "208/208 [==============================] - 233s 1s/step - loss: 0.0485 - accuracy: 0.9860 - val_loss: 0.2674 - val_accuracy: 0.9242\n",
      "\n",
      "Epoch 00124: val_accuracy improved from 0.91784 to 0.92416, saving model to model_weights.h5\n",
      "Epoch 125/125\n",
      "208/208 [==============================] - 253s 1s/step - loss: 0.0539 - accuracy: 0.9859 - val_loss: 0.2704 - val_accuracy: 0.9185\n",
      "\n",
      "Epoch 00125: val_accuracy did not improve from 0.92416\n"
     ]
    }
   ],
   "source": [
    "epochs = 125\n",
    "\n",
    "history = model.fit_generator(generator=train_generator,\n",
    "                              steps_per_epoch=train_generator.n//batch_size,\n",
    "                              epochs=epochs,\n",
    "                              validation_data=validation_generator,\n",
    "                              validation_steps=validation_generator.n//batch_size,\n",
    "                              callbacks=callbacks_list,\n",
    "                              verbose=1)"
   ]
  },
  {
   "cell_type": "code",
   "execution_count": 49,
   "id": "aa95cd88",
   "metadata": {},
   "outputs": [
    {
     "data": {
      "image/png": "[encoded data removed]",
      "text/plain": [
       "<Figure size 1080x360 with 2 Axes>"
      ]
     },
     "metadata": {
      "needs_background": "light"
     },
     "output_type": "display_data"
    }
   ],
   "source": [
    "show_final_history(history)"
   ]
  },
  {
   "cell_type": "code",
   "execution_count": 50,
   "id": "d62b4257",
   "metadata": {},
   "outputs": [
    {
     "data": {
      "text/plain": [
       "{'Black-grass': 0,\n",
       " 'Charlock': 1,\n",
       " 'Cleavers': 2,\n",
       " 'Common Chickweed': 3,\n",
       " 'Common wheat': 4,\n",
       " 'Fat Hen': 5,\n",
       " 'Loose Silky-bent': 6,\n",
       " 'Maize': 7,\n",
       " 'Scentless Mayweed': 8,\n",
       " 'Shepherds Purse': 9,\n",
       " 'Small-flowered Cranesbill': 10,\n",
       " 'Sugar beet': 11}"
      ]
     },
     "execution_count": 50,
     "metadata": {},
     "output_type": "execute_result"
    }
   ],
   "source": [
    "class_name_labels"
   ]
  },
  {
   "cell_type": "code",
   "execution_count": 51,
   "id": "384d4a34",
   "metadata": {},
   "outputs": [
    {
     "data": {
      "text/plain": [
       "((1431,), 1431)"
      ]
     },
     "execution_count": 51,
     "metadata": {},
     "output_type": "execute_result"
    }
   ],
   "source": [
    "y_test = np.argmax(y_val,axis=1)\n",
    "y_test.shape,validation_generator.n"
   ]
  },
  {
   "cell_type": "code",
   "execution_count": 52,
   "id": "de073b2a",
   "metadata": {},
   "outputs": [
    {
     "name": "stderr",
     "output_type": "stream",
     "text": [
      "c:\\users\\kgeethika\\appdata\\local\\programs\\python\\python38\\lib\\site-packages\\tensorflow\\python\\keras\\engine\\training.py:1905: UserWarning: `Model.predict_generator` is deprecated and will be removed in a future version. Please use `Model.predict`, which supports generators.\n",
      "  warnings.warn('`Model.predict_generator` is deprecated and '\n"
     ]
    }
   ],
   "source": [
    "val_pred = model.predict_generator(generator=validation_generator)\n",
    "y_pred = [np.argmax(probas) for probas in val_pred]"
   ]
  },
  {
   "cell_type": "code",
   "execution_count": 53,
   "id": "2c306260",
   "metadata": {},
   "outputs": [
    {
     "data": {
      "text/plain": [
       "(1431,)"
      ]
     },
     "execution_count": 53,
     "metadata": {},
     "output_type": "execute_result"
    }
   ],
   "source": [
    "y_pred = np.argmax(val_pred,axis=1)\n",
    "y_pred.shape"
   ]
  },
  {
   "cell_type": "code",
   "execution_count": 54,
   "id": "7608dd56",
   "metadata": {},
   "outputs": [
    {
     "data": {
      "text/plain": [
       "<Figure size 432x288 with 0 Axes>"
      ]
     },
     "metadata": {},
     "output_type": "display_data"
    },
    {
     "data": {
      "image/png": "[encoded data removed]",
      "text/plain": [
       "<Figure size 720x720 with 2 Axes>"
      ]
     },
     "metadata": {
      "needs_background": "light"
     },
     "output_type": "display_data"
    }
   ],
   "source": [
    "import itertools\n",
    "\n",
    "def plot_confusion_matrix(cm,classes,title='Confusion Matrix',cmap=plt.cm.Blues):\n",
    "    \n",
    "    cm = cm.astype('float')/cm.sum(axis=1)[:,np.newaxis]\n",
    "    plt.figure(figsize=(10,10))\n",
    "    plt.imshow(cm,interpolation='nearest',cmap=cmap)\n",
    "    plt.title(title)\n",
    "    plt.colorbar()\n",
    "    tick_marks = np.arange(len(classes))\n",
    "    plt.xticks(tick_marks, classes,rotation=90)\n",
    "    plt.yticks(tick_marks, classes)\n",
    "    \n",
    "    fmt = '.2f'\n",
    "    thresh = cm.max()/2.\n",
    "    for i,j in itertools.product(range(cm.shape[0]),range(cm.shape[1])):\n",
    "        plt.text(j,i,format(cm[i,j],fmt),\n",
    "                horizontalalignment=\"center\",\n",
    "                color=\"white\" if cm[i,j] > thresh else \"black\")\n",
    "        pass\n",
    "    \n",
    "    plt.ylabel('True Label')\n",
    "    plt.xlabel('Predicted Label')\n",
    "    pass\n",
    "\n",
    "cnf_mat = confusion_matrix(y_test,y_pred)\n",
    "np.set_printoptions(precision=2)\n",
    "\n",
    "\n",
    "plt.figure()\n",
    "plot_confusion_matrix(cnf_mat,classes=class_names)\n",
    "plt.show()"
   ]
  },
  {
   "cell_type": "raw",
   "id": "4c12555d",
   "metadata": {},
   "source": [
    "It bends more towards the Loose Silky bent.\n",
    "\n",
    "From the graph above, we can also infer that it is yet to reach the global minima but it doesn't overfit. We can try to change learning rate and momentum for the optimizer."
   ]
  },
  {
   "cell_type": "code",
   "execution_count": 89,
   "id": "49bf7db0",
   "metadata": {},
   "outputs": [],
   "source": [
    "test_dir = [\"Part1\"]\n",
    "\n",
    "def load_test():\n",
    "    \n",
    "    images,names = [],[]\n",
    "    for dataset in test_dir:\n",
    "\n",
    "        for file in tqdm(os.listdir(dataset)):\n",
    "            \n",
    "            img_path = os.path.join(dataset,file)\n",
    "            img = cv2.imread(img_path)\n",
    "            img = cv2.cvtColor(img,cv2.COLOR_BGR2RGB)\n",
    "            img = cv2.resize(img,(150,150))\n",
    "\n",
    "            images.append(img)\n",
    "            names.append(file)\n",
    "            pass\n",
    "        \n",
    "        images = np.array(images,dtype=np.float32)\n",
    "        pass\n",
    "    \n",
    "    return images,names\n",
    "    pass"
   ]
  },
  {
   "cell_type": "code",
   "execution_count": 90,
   "id": "f605855f",
   "metadata": {},
   "outputs": [
    {
     "name": "stderr",
     "output_type": "stream",
     "text": [
      "100%|████████████████████████████████████████████████████████████████████████████████████| 1/1 [00:00<00:00, 99.78it/s]\n"
     ]
    }
   ],
   "source": [
    "(test_images),(test_names) = load_test()"
   ]
  },
  {
   "cell_type": "code",
   "execution_count": 91,
   "id": "07dd031a",
   "metadata": {},
   "outputs": [
    {
     "data": {
      "text/plain": [
       "'D:\\\\Geethika\\\\AIML\\\\AIML\\\\Project Learning\\\\Computer vision'"
      ]
     },
     "execution_count": 91,
     "metadata": {},
     "output_type": "execute_result"
    }
   ],
   "source": [
    "os.getcwd()"
   ]
  },
  {
   "cell_type": "code",
   "execution_count": 92,
   "id": "2086e211",
   "metadata": {},
   "outputs": [
    {
     "data": {
      "text/plain": [
       "'D:\\\\Geethika\\\\AIML\\\\AIML\\\\Project Learning\\\\Computer vision\\\\Test Data - annotation.csv'"
      ]
     },
     "execution_count": 92,
     "metadata": {},
     "output_type": "execute_result"
    }
   ],
   "source": [
    "os.path.abspath(\"Test Data - annotation.csv\")"
   ]
  },
  {
   "cell_type": "code",
   "execution_count": 93,
   "id": "8d268d67",
   "metadata": {},
   "outputs": [
    {
     "name": "stdout",
     "output_type": "stream",
     "text": [
      "Black-grass 0\n",
      "Charlock 1\n",
      "Cleavers 2\n",
      "Common Chickweed 3\n",
      "Common wheat 4\n",
      "Fat Hen 5\n",
      "Loose Silky-bent 6\n",
      "Maize 7\n",
      "Scentless Mayweed 8\n",
      "Shepherds Purse 9\n",
      "Small-flowered Cranesbill 10\n",
      "Sugar beet 11\n"
     ]
    }
   ],
   "source": [
    "for (label),(i) in class_name_labels.items():\n",
    "    print(label,i)"
   ]
  },
  {
   "cell_type": "code",
   "execution_count": 94,
   "id": "423378a3",
   "metadata": {},
   "outputs": [
    {
     "data": {
      "text/plain": [
       "(150, 150, 3)"
      ]
     },
     "execution_count": 94,
     "metadata": {},
     "output_type": "execute_result"
    }
   ],
   "source": [
    "test_images[0].shape"
   ]
  },
  {
   "cell_type": "code",
   "execution_count": 96,
   "id": "66a00b17",
   "metadata": {},
   "outputs": [
    {
     "name": "stderr",
     "output_type": "stream",
     "text": [
      "100%|████████████████████████████████████████████████████████████████████████████████████| 1/1 [00:00<00:00,  5.10it/s]\n"
     ]
    }
   ],
   "source": [
    "from tensorflow.keras.preprocessing.image import img_to_array\n",
    "\n",
    "predicted_class = []\n",
    "class_labels = dict((i,label) for label,i in class_name_labels.items())\n",
    "for image in tqdm(test_images):\n",
    "    \n",
    "    image = np.expand_dims(image, axis=0)\n",
    "    test_result = model.predict(image)\n",
    "    pred_class = np.argmax(test_result,axis=1)\n",
    "    prediction = [class_labels[k] for k in pred_class][0]\n",
    "    predicted_class.append(prediction)\n",
    "    pass\n",
    "\n",
    "results = pd.DataFrame({\"file\":test_names,\n",
    "                        \"species\":predicted_class})"
   ]
  },
  {
   "cell_type": "code",
   "execution_count": 97,
   "id": "739138bd",
   "metadata": {},
   "outputs": [
    {
     "data": {
      "text/html": [
       "<div>\n",
       "<style scoped>\n",
       "    .dataframe tbody tr th:only-of-type {\n",
       "        vertical-align: middle;\n",
       "    }\n",
       "\n",
       "    .dataframe tbody tr th {\n",
       "        vertical-align: top;\n",
       "    }\n",
       "\n",
       "    .dataframe thead th {\n",
       "        text-align: right;\n",
       "    }\n",
       "</style>\n",
       "<table border=\"1\" class=\"dataframe\">\n",
       "  <thead>\n",
       "    <tr style=\"text-align: right;\">\n",
       "      <th></th>\n",
       "      <th>file</th>\n",
       "      <th>species</th>\n",
       "    </tr>\n",
       "  </thead>\n",
       "  <tbody>\n",
       "    <tr>\n",
       "      <th>0</th>\n",
       "      <td>Predict.png</td>\n",
       "      <td>Maize</td>\n",
       "    </tr>\n",
       "  </tbody>\n",
       "</table>\n",
       "</div>"
      ],
      "text/plain": [
       "          file species\n",
       "0  Predict.png   Maize"
      ]
     },
     "execution_count": 97,
     "metadata": {},
     "output_type": "execute_result"
    }
   ],
   "source": [
    "results.head()"
   ]
  },
  {
   "cell_type": "code",
   "execution_count": 98,
   "id": "73a626d2",
   "metadata": {},
   "outputs": [],
   "source": [
    "results.to_csv(\"submission.csv\",index=False)"
   ]
  },
  {
   "cell_type": "code",
   "execution_count": 99,
   "id": "c51570be",
   "metadata": {},
   "outputs": [],
   "source": [
    "model_json = model.to_json()\n",
    "with open(\"model.json\",\"w\") as json_file:\n",
    "    json_file.write(model_json)\n",
    "    pass"
   ]
  },
  {
   "cell_type": "code",
   "execution_count": 106,
   "id": "ca1a8551",
   "metadata": {},
   "outputs": [
    {
     "data": {
      "image/png": "[encoded data removed]",
      "text/plain": [
       "<Figure size 432x288 with 1 Axes>"
      ]
     },
     "metadata": {
      "needs_background": "light"
     },
     "output_type": "display_data"
    }
   ],
   "source": [
    "# Read the image\n",
    "img = io.imread('Part1\\Predict.png')\n",
    "\n",
    "plt.imshow(img)\n",
    "plt.show()"
   ]
  },
  {
   "cell_type": "code",
   "execution_count": 3,
   "id": "e7d62388",
   "metadata": {},
   "outputs": [
    {
     "data": {
      "text/html": [
       "<div>\n",
       "<style scoped>\n",
       "    .dataframe tbody tr th:only-of-type {\n",
       "        vertical-align: middle;\n",
       "    }\n",
       "\n",
       "    .dataframe tbody tr th {\n",
       "        vertical-align: top;\n",
       "    }\n",
       "\n",
       "    .dataframe thead th {\n",
       "        text-align: right;\n",
       "    }\n",
       "</style>\n",
       "<table border=\"1\" class=\"dataframe\">\n",
       "  <thead>\n",
       "    <tr style=\"text-align: right;\">\n",
       "      <th></th>\n",
       "      <th>file</th>\n",
       "      <th>species</th>\n",
       "    </tr>\n",
       "  </thead>\n",
       "  <tbody>\n",
       "    <tr>\n",
       "      <th>0</th>\n",
       "      <td>0021e90e4.png</td>\n",
       "      <td>Sugar beet</td>\n",
       "    </tr>\n",
       "    <tr>\n",
       "      <th>1</th>\n",
       "      <td>003d61042.png</td>\n",
       "      <td>Sugar beet</td>\n",
       "    </tr>\n",
       "    <tr>\n",
       "      <th>2</th>\n",
       "      <td>007b3da8b.png</td>\n",
       "      <td>Sugar beet</td>\n",
       "    </tr>\n",
       "    <tr>\n",
       "      <th>3</th>\n",
       "      <td>0086a6340.png</td>\n",
       "      <td>Sugar beet</td>\n",
       "    </tr>\n",
       "    <tr>\n",
       "      <th>4</th>\n",
       "      <td>00c47e980.png</td>\n",
       "      <td>Sugar beet</td>\n",
       "    </tr>\n",
       "  </tbody>\n",
       "</table>\n",
       "</div>"
      ],
      "text/plain": [
       "            file     species\n",
       "0  0021e90e4.png  Sugar beet\n",
       "1  003d61042.png  Sugar beet\n",
       "2  007b3da8b.png  Sugar beet\n",
       "3  0086a6340.png  Sugar beet\n",
       "4  00c47e980.png  Sugar beet"
      ]
     },
     "execution_count": 3,
     "metadata": {},
     "output_type": "execute_result"
    }
   ],
   "source": [
    "test = pd.read_csv('Test Data - annotation.csv')\n",
    "test.head()"
   ]
  },
  {
   "cell_type": "code",
   "execution_count": 17,
   "id": "64ef3c36",
   "metadata": {},
   "outputs": [],
   "source": [
    "import pandas as pd \n",
    "import numpy as np \n",
    "\n",
    "from sklearn import metrics\n",
    "from sklearn.linear_model import LogisticRegression\n",
    "from sklearn.metrics import accuracy_score, confusion_matrix, precision_score, recall_score, f1_score, precision_recall_curve, auc, precision_recall_fscore_support \n",
    "import matplotlib.pyplot as plt \n",
    "import h5py \n",
    "from sklearn.neighbors import KNeighborsClassifier\n"
   ]
  },
  {
   "cell_type": "code",
   "execution_count": 50,
   "id": "ae963aa9",
   "metadata": {},
   "outputs": [],
   "source": [
    "X_train,X_val,y_train,y_val = train_test_split(train_images,train_labels,test_size=0.3,random_state = 42)\n",
    "# train_images, test_images, train_labels, test_labels"
   ]
  },
  {
   "cell_type": "code",
   "execution_count": 51,
   "id": "1c322387",
   "metadata": {},
   "outputs": [
    {
     "name": "stdout",
     "output_type": "stream",
     "text": [
      "Training set feature shape (3336, 150, 150, 3)\n",
      "Training set target shape (3336,)\n",
      "Validation set feature shape (1431, 150, 150, 3)\n",
      "Validation set target shape (1431,)\n"
     ]
    }
   ],
   "source": [
    "print(\"Training set feature shape\", X_train.shape) \n",
    "print(\"Training set target shape\", y_train.shape) \n",
    "print(\"Validation set feature shape\", X_val.shape) \n",
    "print(\"Validation set target shape\", y_val.shape)\n"
   ]
  },
  {
   "cell_type": "code",
   "execution_count": 68,
   "id": "702dbe56",
   "metadata": {},
   "outputs": [],
   "source": [
    "X_train = X_train.reshape(3336,3*150*150)\n",
    "X_test = X_val.reshape(1431,3*150*150)"
   ]
  },
  {
   "cell_type": "code",
   "execution_count": 69,
   "id": "7771f3e0",
   "metadata": {},
   "outputs": [
    {
     "data": {
      "text/plain": [
       "(3336, 67500)"
      ]
     },
     "execution_count": 69,
     "metadata": {},
     "output_type": "execute_result"
    }
   ],
   "source": [
    "X_train.shape"
   ]
  },
  {
   "cell_type": "code",
   "execution_count": 29,
   "id": "2e5b5ed2",
   "metadata": {},
   "outputs": [],
   "source": [
    "nsamples, nx, ny,nz = X_train.shape\n",
    "X_train_reshaped = X_train.reshape((nsamples,nx*ny*nz))"
   ]
  },
  {
   "cell_type": "code",
   "execution_count": 31,
   "id": "cfb9b84d",
   "metadata": {},
   "outputs": [
    {
     "name": "stdout",
     "output_type": "stream",
     "text": [
      "(1431, 150, 150, 3)\n",
      "(1431, 67500)\n"
     ]
    }
   ],
   "source": [
    "nsamples, nx, ny,nz = X_val.shape\n",
    "print(X_val.shape)\n",
    "X_val_reshaped = X_val.reshape((nsamples,nx*ny*nz))\n",
    "print(X_val_reshaped.shape)"
   ]
  },
  {
   "cell_type": "code",
   "execution_count": 52,
   "id": "4d47a84c",
   "metadata": {},
   "outputs": [
    {
     "name": "stderr",
     "output_type": "stream",
     "text": [
      "c:\\users\\kgeethika\\appdata\\local\\programs\\python\\python38\\lib\\site-packages\\sklearn\\linear_model\\_logistic.py:763: ConvergenceWarning: lbfgs failed to converge (status=1):\n",
      "STOP: TOTAL NO. of ITERATIONS REACHED LIMIT.\n",
      "\n",
      "Increase the number of iterations (max_iter) or scale the data as shown in:\n",
      "    https://scikit-learn.org/stable/modules/preprocessing.html\n",
      "Please also refer to the documentation for alternative solver options:\n",
      "    https://scikit-learn.org/stable/modules/linear_model.html#logistic-regression\n",
      "  n_iter_i = _check_optimize_result(\n"
     ]
    },
    {
     "data": {
      "text/plain": [
       "LogisticRegression()"
      ]
     },
     "execution_count": 52,
     "metadata": {},
     "output_type": "execute_result"
    }
   ],
   "source": [
    "from sklearn import metrics\n",
    "from sklearn.linear_model import LogisticRegression\n",
    "logreg = LogisticRegression()\n",
    "logreg.fit(X_train_reshaped, y_train)"
   ]
  },
  {
   "cell_type": "code",
   "execution_count": 56,
   "id": "d34a7d78",
   "metadata": {
    "scrolled": true
   },
   "outputs": [],
   "source": [
    "y_pred = logreg.predict(X_val_reshaped)"
   ]
  },
  {
   "cell_type": "code",
   "execution_count": 58,
   "id": "4943abff",
   "metadata": {},
   "outputs": [
    {
     "data": {
      "text/plain": [
       "0.10202655485674354"
      ]
     },
     "execution_count": 58,
     "metadata": {},
     "output_type": "execute_result"
    }
   ],
   "source": [
    "from sklearn.metrics import accuracy_score\n",
    "from sklearn.metrics import classification_report,confusion_matrix\n",
    "LOG_accuracy=accuracy_score(y_val, y_pred)\n",
    "LOG_accuracy"
   ]
  },
  {
   "cell_type": "code",
   "execution_count": 59,
   "id": "d1d3ce7b",
   "metadata": {},
   "outputs": [
    {
     "data": {
      "text/plain": [
       "<AxesSubplot:>"
      ]
     },
     "execution_count": 59,
     "metadata": {},
     "output_type": "execute_result"
    },
    {
     "data": {
      "image/png": "[encoded data removed]",
      "text/plain": [
       "<Figure size 432x288 with 2 Axes>"
      ]
     },
     "metadata": {
      "needs_background": "light"
     },
     "output_type": "display_data"
    }
   ],
   "source": [
    "import seaborn as sns\n",
    "from sklearn.metrics import confusion_matrix\n",
    "cm_log = confusion_matrix(y_val, y_pred)\n",
    "sns.heatmap(cm_log, annot=True, cmap='Blues', fmt='g')\n"
   ]
  },
  {
   "cell_type": "code",
   "execution_count": 15,
   "id": "9c8556b1",
   "metadata": {
    "scrolled": true
   },
   "outputs": [],
   "source": [
    "from tensorflow.keras.models import Sequential\n",
    "from tensorflow.keras.layers import Activation, Dense\n",
    "from tensorflow.keras import optimizers\n",
    "from tensorflow.keras.layers import Flatten"
   ]
  },
  {
   "cell_type": "code",
   "execution_count": 24,
   "id": "763b0685",
   "metadata": {},
   "outputs": [],
   "source": [
    "model = Sequential()"
   ]
  },
  {
   "cell_type": "code",
   "execution_count": 25,
   "id": "eadf0538",
   "metadata": {},
   "outputs": [],
   "source": [
    "model.add(Flatten())\n",
    "model.add(Dense(128, activation=\"relu\"))\n",
    "model.add(Dense(12, activation=\"softmax\"))"
   ]
  },
  {
   "cell_type": "code",
   "execution_count": 28,
   "id": "a707737a",
   "metadata": {},
   "outputs": [
    {
     "name": "stdout",
     "output_type": "stream",
     "text": [
      "Epoch 1/6\n",
      "278/278 [==============================] - 9s 31ms/step - loss: 0.0755 - accuracy: 0.1327 - val_loss: 0.0754 - val_accuracy: 0.1440\n",
      "Epoch 2/6\n",
      "278/278 [==============================] - 9s 31ms/step - loss: 0.0755 - accuracy: 0.1359 - val_loss: 0.0754 - val_accuracy: 0.1440\n",
      "Epoch 3/6\n",
      "278/278 [==============================] - 9s 31ms/step - loss: 0.0755 - accuracy: 0.1334 - val_loss: 0.0754 - val_accuracy: 0.1440\n",
      "Epoch 4/6\n",
      "278/278 [==============================] - 9s 32ms/step - loss: 0.0755 - accuracy: 0.1450 - val_loss: 0.0754 - val_accuracy: 0.1440\n",
      "Epoch 5/6\n",
      "278/278 [==============================] - 8s 30ms/step - loss: 0.0755 - accuracy: 0.1365 - val_loss: 0.0754 - val_accuracy: 0.1440\n",
      "Epoch 6/6\n",
      "278/278 [==============================] - 8s 29ms/step - loss: 0.0756 - accuracy: 0.1422 - val_loss: 0.0754 - val_accuracy: 0.1440\n"
     ]
    },
    {
     "data": {
      "text/plain": [
       "<tensorflow.python.keras.callbacks.History at 0x22113b90340>"
      ]
     },
     "execution_count": 28,
     "metadata": {},
     "output_type": "execute_result"
    }
   ],
   "source": [
    "# Compile the model\n",
    "model.compile(loss=\"mse\", metrics=[\"accuracy\"], optimizer=\"sgd\")\n",
    "\n",
    "# Fit the model\n",
    "model.fit(x=X_train, y=y_train, batch_size=12, epochs=6, validation_data=(X_val, y_val))"
   ]
  },
  {
   "cell_type": "code",
   "execution_count": 30,
   "id": "b2e23c8f",
   "metadata": {},
   "outputs": [
    {
     "name": "stdout",
     "output_type": "stream",
     "text": [
      "45/45 [==============================] - 1s 11ms/step - loss: 0.0754 - accuracy: 0.1440\n"
     ]
    }
   ],
   "source": [
    "results = model.evaluate(X_val, y_val)"
   ]
  },
  {
   "cell_type": "code",
   "execution_count": 31,
   "id": "ebfa0be7",
   "metadata": {},
   "outputs": [
    {
     "name": "stdout",
     "output_type": "stream",
     "text": [
      "Accuracy: [0.07544167339801788, 0.1439552754163742]\n"
     ]
    }
   ],
   "source": [
    "print (\"Accuracy:\" ,results)"
   ]
  },
  {
   "cell_type": "code",
   "execution_count": 32,
   "id": "61a9083c",
   "metadata": {},
   "outputs": [
    {
     "name": "stdout",
     "output_type": "stream",
     "text": [
      "['loss', 'accuracy']\n"
     ]
    }
   ],
   "source": [
    "print(model.metrics_names)"
   ]
  },
  {
   "cell_type": "code",
   "execution_count": 35,
   "id": "a59e71b7",
   "metadata": {},
   "outputs": [],
   "source": [
    "model = Sequential()\n",
    "model.add(Flatten())\n",
    "model.add(Dense(128, activation=\"relu\"))\n",
    "model.add(Dense(12, activation=\"softmax\"))\n",
    "model.add(BatchNormalization(input_shape=(12,)))"
   ]
  },
  {
   "cell_type": "code",
   "execution_count": 36,
   "id": "6187070c",
   "metadata": {},
   "outputs": [],
   "source": [
    "model.compile(optimizer='sgd', loss='mse')"
   ]
  },
  {
   "cell_type": "code",
   "execution_count": 38,
   "id": "a646763a",
   "metadata": {},
   "outputs": [
    {
     "name": "stdout",
     "output_type": "stream",
     "text": [
      "Epoch 1/100\n",
      "68/68 [==============================] - 3s 42ms/step - loss: 0.1186 - val_loss: 0.1174\n",
      "Epoch 2/100\n",
      "68/68 [==============================] - 3s 42ms/step - loss: 0.0814 - val_loss: 0.0976\n",
      "Epoch 3/100\n",
      "68/68 [==============================] - 3s 40ms/step - loss: 0.0802 - val_loss: 0.0875\n",
      "Epoch 4/100\n",
      "68/68 [==============================] - 3s 38ms/step - loss: 0.0792 - val_loss: 0.0823\n",
      "Epoch 5/100\n",
      "68/68 [==============================] - 3s 40ms/step - loss: 0.0785 - val_loss: 0.0796\n",
      "Epoch 6/100\n",
      "68/68 [==============================] - 3s 42ms/step - loss: 0.0778 - val_loss: 0.0781\n",
      "Epoch 7/100\n",
      "68/68 [==============================] - 3s 43ms/step - loss: 0.0774 - val_loss: 0.0772\n",
      "Epoch 8/100\n",
      "68/68 [==============================] - 3s 39ms/step - loss: 0.0769 - val_loss: 0.0767\n",
      "Epoch 9/100\n",
      "68/68 [==============================] - 3s 40ms/step - loss: 0.0767 - val_loss: 0.0764\n",
      "Epoch 10/100\n",
      "68/68 [==============================] - 3s 42ms/step - loss: 0.0764 - val_loss: 0.0762\n",
      "Epoch 11/100\n",
      "68/68 [==============================] - 3s 41ms/step - loss: 0.0763 - val_loss: 0.0760\n",
      "Epoch 12/100\n",
      "68/68 [==============================] - 3s 43ms/step - loss: 0.0761 - val_loss: 0.0759\n",
      "Epoch 13/100\n",
      "68/68 [==============================] - 3s 43ms/step - loss: 0.0760 - val_loss: 0.0758\n",
      "Epoch 14/100\n",
      "68/68 [==============================] - 3s 42ms/step - loss: 0.0759 - val_loss: 0.0757\n",
      "Epoch 15/100\n",
      "68/68 [==============================] - 3s 42ms/step - loss: 0.0756 - val_loss: 0.0756\n",
      "Epoch 16/100\n",
      "68/68 [==============================] - 3s 39ms/step - loss: 0.0758 - val_loss: 0.0756\n",
      "Epoch 17/100\n",
      "68/68 [==============================] - 3s 44ms/step - loss: 0.0755 - val_loss: 0.0755\n",
      "Epoch 18/100\n",
      "68/68 [==============================] - 3s 41ms/step - loss: 0.0756 - val_loss: 0.0755\n",
      "Epoch 19/100\n",
      "68/68 [==============================] - 3s 39ms/step - loss: 0.0755 - val_loss: 0.0755\n",
      "Epoch 20/100\n",
      "68/68 [==============================] - 3s 42ms/step - loss: 0.0756 - val_loss: 0.0754\n",
      "Epoch 21/100\n",
      "68/68 [==============================] - 3s 44ms/step - loss: 0.0755 - val_loss: 0.0754\n",
      "Epoch 22/100\n",
      "68/68 [==============================] - 3s 40ms/step - loss: 0.0754 - val_loss: 0.0754\n",
      "Epoch 23/100\n",
      "68/68 [==============================] - 3s 41ms/step - loss: 0.0754 - val_loss: 0.0754\n",
      "Epoch 24/100\n",
      "68/68 [==============================] - 3s 41ms/step - loss: 0.0755 - val_loss: 0.0754\n",
      "Epoch 25/100\n",
      "68/68 [==============================] - 3s 39ms/step - loss: 0.0754 - val_loss: 0.0754\n",
      "Epoch 26/100\n",
      "68/68 [==============================] - 3s 38ms/step - loss: 0.0755 - val_loss: 0.0754\n",
      "Epoch 27/100\n",
      "68/68 [==============================] - 3s 39ms/step - loss: 0.0756 - val_loss: 0.0754\n",
      "Epoch 28/100\n",
      "68/68 [==============================] - 3s 42ms/step - loss: 0.0755 - val_loss: 0.0754\n",
      "Epoch 29/100\n",
      "68/68 [==============================] - 3s 39ms/step - loss: 0.0755 - val_loss: 0.0754\n",
      "Epoch 30/100\n",
      "68/68 [==============================] - 3s 37ms/step - loss: 0.0756 - val_loss: 0.0754\n",
      "Epoch 31/100\n",
      "68/68 [==============================] - 3s 37ms/step - loss: 0.0753 - val_loss: 0.0754\n",
      "Epoch 32/100\n",
      "68/68 [==============================] - 3s 41ms/step - loss: 0.0754 - val_loss: 0.0754\n",
      "Epoch 33/100\n",
      "68/68 [==============================] - 3s 47ms/step - loss: 0.0754 - val_loss: 0.0754\n",
      "Epoch 34/100\n",
      "68/68 [==============================] - 3s 42ms/step - loss: 0.0755 - val_loss: 0.0754\n",
      "Epoch 35/100\n",
      "68/68 [==============================] - 3s 41ms/step - loss: 0.0753 - val_loss: 0.0754\n",
      "Epoch 36/100\n",
      "68/68 [==============================] - 3s 40ms/step - loss: 0.0755 - val_loss: 0.0754\n",
      "Epoch 37/100\n",
      "68/68 [==============================] - 3s 42ms/step - loss: 0.0754 - val_loss: 0.0754\n",
      "Epoch 38/100\n",
      "68/68 [==============================] - 3s 42ms/step - loss: 0.0755 - val_loss: 0.0754\n",
      "Epoch 39/100\n",
      "68/68 [==============================] - 3s 44ms/step - loss: 0.0753 - val_loss: 0.0754\n",
      "Epoch 40/100\n",
      "68/68 [==============================] - 3s 42ms/step - loss: 0.0754 - val_loss: 0.0754\n",
      "Epoch 41/100\n",
      "68/68 [==============================] - 3s 47ms/step - loss: 0.0752 - val_loss: 0.0754\n",
      "Epoch 42/100\n",
      "68/68 [==============================] - 3s 47ms/step - loss: 0.0755 - val_loss: 0.0754\n",
      "Epoch 43/100\n",
      "68/68 [==============================] - 3s 44ms/step - loss: 0.0756 - val_loss: 0.0753\n",
      "Epoch 44/100\n",
      "68/68 [==============================] - 3s 44ms/step - loss: 0.0755 - val_loss: 0.0753\n",
      "Epoch 45/100\n",
      "68/68 [==============================] - 3s 40ms/step - loss: 0.0753 - val_loss: 0.0753\n",
      "Epoch 46/100\n",
      "68/68 [==============================] - 3s 44ms/step - loss: 0.0753 - val_loss: 0.0753\n",
      "Epoch 47/100\n",
      "68/68 [==============================] - 3s 41ms/step - loss: 0.0757 - val_loss: 0.0753\n",
      "Epoch 48/100\n",
      "68/68 [==============================] - 3s 37ms/step - loss: 0.0755 - val_loss: 0.0753\n",
      "Epoch 49/100\n",
      "68/68 [==============================] - 3s 39ms/step - loss: 0.0757 - val_loss: 0.0753\n",
      "Epoch 50/100\n",
      "68/68 [==============================] - 3s 39ms/step - loss: 0.0755 - val_loss: 0.0753\n",
      "Epoch 51/100\n",
      "68/68 [==============================] - 3s 41ms/step - loss: 0.0754 - val_loss: 0.0753\n",
      "Epoch 52/100\n",
      "68/68 [==============================] - 3s 38ms/step - loss: 0.0755 - val_loss: 0.0753\n",
      "Epoch 53/100\n",
      "68/68 [==============================] - 3s 40ms/step - loss: 0.0754 - val_loss: 0.0753\n",
      "Epoch 54/100\n",
      "68/68 [==============================] - 3s 43ms/step - loss: 0.0754 - val_loss: 0.0753\n",
      "Epoch 55/100\n",
      "68/68 [==============================] - 3s 41ms/step - loss: 0.0755 - val_loss: 0.0753\n",
      "Epoch 56/100\n",
      "68/68 [==============================] - 3s 44ms/step - loss: 0.0755 - val_loss: 0.0753\n",
      "Epoch 57/100\n",
      "68/68 [==============================] - 3s 43ms/step - loss: 0.0755 - val_loss: 0.0753\n",
      "Epoch 58/100\n",
      "68/68 [==============================] - 3s 41ms/step - loss: 0.0756 - val_loss: 0.0753\n",
      "Epoch 59/100\n",
      "68/68 [==============================] - 3s 43ms/step - loss: 0.0756 - val_loss: 0.0753\n",
      "Epoch 60/100\n",
      "68/68 [==============================] - 3s 41ms/step - loss: 0.0755 - val_loss: 0.0753\n",
      "Epoch 61/100\n",
      "68/68 [==============================] - 3s 42ms/step - loss: 0.0754 - val_loss: 0.0753\n",
      "Epoch 62/100\n",
      "68/68 [==============================] - 3s 41ms/step - loss: 0.0755 - val_loss: 0.0753\n",
      "Epoch 63/100\n",
      "68/68 [==============================] - 3s 42ms/step - loss: 0.0755 - val_loss: 0.0753\n",
      "Epoch 64/100\n",
      "68/68 [==============================] - 3s 38ms/step - loss: 0.0755 - val_loss: 0.0753\n",
      "Epoch 65/100\n",
      "68/68 [==============================] - 3s 39ms/step - loss: 0.0755 - val_loss: 0.0753\n",
      "Epoch 66/100\n",
      "68/68 [==============================] - 3s 43ms/step - loss: 0.0756 - val_loss: 0.0753\n",
      "Epoch 67/100\n",
      "68/68 [==============================] - 3s 41ms/step - loss: 0.0753 - val_loss: 0.0753\n",
      "Epoch 68/100\n",
      "68/68 [==============================] - 3s 41ms/step - loss: 0.0757 - val_loss: 0.0753\n",
      "Epoch 69/100\n",
      "68/68 [==============================] - 3s 45ms/step - loss: 0.0755 - val_loss: 0.0753\n",
      "Epoch 70/100\n",
      "68/68 [==============================] - 3s 46ms/step - loss: 0.0754 - val_loss: 0.0753\n",
      "Epoch 71/100\n",
      "68/68 [==============================] - 3s 40ms/step - loss: 0.0757 - val_loss: 0.0753\n",
      "Epoch 72/100\n",
      "68/68 [==============================] - 3s 37ms/step - loss: 0.0754 - val_loss: 0.0753\n",
      "Epoch 73/100\n",
      "68/68 [==============================] - 3s 37ms/step - loss: 0.0754 - val_loss: 0.0753\n",
      "Epoch 74/100\n",
      "68/68 [==============================] - 2s 37ms/step - loss: 0.0755 - val_loss: 0.0753\n",
      "Epoch 75/100\n",
      "68/68 [==============================] - 2s 37ms/step - loss: 0.0755 - val_loss: 0.0753\n",
      "Epoch 76/100\n",
      "68/68 [==============================] - 3s 38ms/step - loss: 0.0754 - val_loss: 0.0753\n",
      "Epoch 77/100\n",
      "68/68 [==============================] - 3s 38ms/step - loss: 0.0754 - val_loss: 0.0753\n",
      "Epoch 78/100\n",
      "68/68 [==============================] - 3s 37ms/step - loss: 0.0755 - val_loss: 0.0753\n",
      "Epoch 79/100\n",
      "68/68 [==============================] - 3s 37ms/step - loss: 0.0754 - val_loss: 0.0753\n",
      "Epoch 80/100\n",
      "68/68 [==============================] - 3s 41ms/step - loss: 0.0754 - val_loss: 0.0753\n",
      "Epoch 81/100\n",
      "68/68 [==============================] - 3s 47ms/step - loss: 0.0753 - val_loss: 0.0753\n",
      "Epoch 82/100\n",
      "68/68 [==============================] - 3s 41ms/step - loss: 0.0755 - val_loss: 0.0753\n",
      "Epoch 83/100\n",
      "68/68 [==============================] - 3s 40ms/step - loss: 0.0756 - val_loss: 0.0753\n",
      "Epoch 84/100\n",
      "68/68 [==============================] - 3s 39ms/step - loss: 0.0754 - val_loss: 0.0753\n",
      "Epoch 85/100\n",
      "68/68 [==============================] - 3s 40ms/step - loss: 0.0755 - val_loss: 0.0753\n",
      "Epoch 86/100\n",
      "68/68 [==============================] - 3s 40ms/step - loss: 0.0756 - val_loss: 0.0753\n",
      "Epoch 87/100\n",
      "68/68 [==============================] - 3s 40ms/step - loss: 0.0754 - val_loss: 0.0753\n",
      "Epoch 88/100\n",
      "68/68 [==============================] - 3s 39ms/step - loss: 0.0755 - val_loss: 0.0753\n",
      "Epoch 89/100\n",
      "68/68 [==============================] - 3s 40ms/step - loss: 0.0754 - val_loss: 0.0753\n",
      "Epoch 90/100\n",
      "68/68 [==============================] - 3s 39ms/step - loss: 0.0756 - val_loss: 0.0753\n",
      "Epoch 91/100\n",
      "68/68 [==============================] - 3s 41ms/step - loss: 0.0756 - val_loss: 0.0753\n",
      "Epoch 92/100\n",
      "68/68 [==============================] - 3s 40ms/step - loss: 0.0754 - val_loss: 0.0753\n",
      "Epoch 93/100\n",
      "68/68 [==============================] - 3s 40ms/step - loss: 0.0753 - val_loss: 0.0753\n",
      "Epoch 94/100\n",
      "68/68 [==============================] - 3s 39ms/step - loss: 0.0756 - val_loss: 0.0753\n",
      "Epoch 95/100\n",
      "68/68 [==============================] - 3s 38ms/step - loss: 0.0753 - val_loss: 0.0753\n",
      "Epoch 96/100\n",
      "68/68 [==============================] - 3s 40ms/step - loss: 0.0755 - val_loss: 0.0753\n",
      "Epoch 97/100\n",
      "68/68 [==============================] - 3s 41ms/step - loss: 0.0755 - val_loss: 0.0753\n",
      "Epoch 98/100\n",
      "68/68 [==============================] - 3s 39ms/step - loss: 0.0754 - val_loss: 0.0753\n",
      "Epoch 99/100\n",
      "68/68 [==============================] - 3s 37ms/step - loss: 0.0755 - val_loss: 0.0753\n",
      "Epoch 100/100\n",
      "68/68 [==============================] - 3s 39ms/step - loss: 0.0754 - val_loss: 0.0753\n"
     ]
    },
    {
     "data": {
      "text/plain": [
       "<tensorflow.python.keras.callbacks.History at 0x22114925fd0>"
      ]
     },
     "execution_count": 38,
     "metadata": {},
     "output_type": "execute_result"
    }
   ],
   "source": [
    "model.fit(X_train, y_train, epochs=100, validation_split=0.35)"
   ]
  },
  {
   "cell_type": "code",
   "execution_count": 41,
   "id": "12c44416",
   "metadata": {},
   "outputs": [
    {
     "name": "stdout",
     "output_type": "stream",
     "text": [
      "45/45 [==============================] - 1s 12ms/step - loss: 0.0754\n"
     ]
    }
   ],
   "source": [
    "results = model.evaluate(X_val, y_val)"
   ]
  },
  {
   "cell_type": "code",
   "execution_count": 42,
   "id": "4a9127e2",
   "metadata": {},
   "outputs": [
    {
     "name": "stdout",
     "output_type": "stream",
     "text": [
      "Test accuracy:  0.07543247193098068\n"
     ]
    }
   ],
   "source": [
    "print('Test accuracy: ', results)"
   ]
  },
  {
   "cell_type": "code",
   "execution_count": null,
   "id": "481170db",
   "metadata": {},
   "outputs": [],
   "source": []
  }
 ],
 "metadata": {
  "kernelspec": {
   "display_name": "Python 3",
   "language": "python",
   "name": "python3"
  },
  "language_info": {
   "codemirror_mode": {
    "name": "ipython",
    "version": 3
   },
   "file_extension": ".py",
   "mimetype": "text/x-python",
   "name": "python",
   "nbconvert_exporter": "python",
   "pygments_lexer": "ipython3",
   "version": "3.8.8"
  }
 },
 "nbformat": 4,
 "nbformat_minor": 5
}
